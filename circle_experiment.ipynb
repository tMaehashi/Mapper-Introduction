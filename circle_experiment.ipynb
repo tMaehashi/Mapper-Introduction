{
 "cells": [
  {
   "cell_type": "markdown",
   "metadata": {},
   "source": [
    "## 実験１"
   ]
  },
  {
   "cell_type": "markdown",
   "metadata": {},
   "source": [
    "パッケージのインストール"
   ]
  },
  {
   "cell_type": "code",
   "execution_count": 30,
   "metadata": {},
   "outputs": [],
   "source": [
    "import kmapper as km \n",
    "from kmapper.plotlyviz import plotlyviz\n",
    "import sklearn"
   ]
  },
  {
   "cell_type": "markdown",
   "metadata": {},
   "source": [
    "KeplerMapperを用意"
   ]
  },
  {
   "cell_type": "code",
   "execution_count": 31,
   "metadata": {},
   "outputs": [],
   "source": [
    "mapper = km.KeplerMapper(verbose=0) # verboseの引数は0（ログを取らない）か1（一部ログを取る）か2（完全にログを取る）．"
   ]
  },
  {
   "cell_type": "markdown",
   "metadata": {},
   "source": [
    "データセットを用意"
   ]
  },
  {
   "cell_type": "markdown",
   "metadata": {},
   "source": [
    "円周上に等間隔で分布するデータセット（データ点の数：5000，外側の円の半径：1，内側の円の半径：0.3，ガウシアンノイズ：標準偏差0.05）"
   ]
  },
  {
   "cell_type": "code",
   "execution_count": 32,
   "metadata": {},
   "outputs": [
    {
     "data": {
      "text/plain": [
       "array([[ 0.26268795,  0.16651014],\n",
       "       [ 0.21291328, -0.13958955],\n",
       "       [-0.26850644, -0.13674264],\n",
       "       ...,\n",
       "       [-0.57284035,  0.62744481],\n",
       "       [-0.32281238, -0.11215398],\n",
       "       [ 0.81390367,  0.53680444]])"
      ]
     },
     "execution_count": 32,
     "metadata": {},
     "output_type": "execute_result"
    }
   ],
   "source": [
    "from sklearn.datasets import make_circles\n",
    "\n",
    "data, labels = make_circles(n_samples=5000, noise=0.05, factor=0.3, random_state=1)\n",
    "data\n",
    "# dataにはデータ点の座標の配列，labelsには各データ点に対応する正解ラベルの配列を代入．\n",
    "# n_samples：データ点の数，noise：ガウシアンノイズの標準偏差（平均は0），factor：内側の円の半径．"
   ]
  },
  {
   "cell_type": "code",
   "execution_count": 33,
   "metadata": {},
   "outputs": [
    {
     "data": {
      "text/plain": [
       "array([[ 0.26268795],\n",
       "       [ 0.21291328],\n",
       "       [-0.26850644],\n",
       "       ...,\n",
       "       [-0.57284035],\n",
       "       [-0.32281238],\n",
       "       [ 0.81390367]])"
      ]
     },
     "execution_count": 33,
     "metadata": {},
     "output_type": "execute_result"
    }
   ],
   "source": [
    "lens = mapper.fit_transform(data, projection=[0], scaler=None) \n",
    "# projection：射影（デフォルト：sum），scaler：スケーリング（デフォルト：最小最大正規化）．\n",
    "lens"
   ]
  },
  {
   "cell_type": "markdown",
   "metadata": {},
   "source": [
    "(n_cubes, perc_overlap)= 一番良い：(15, 0.1), (5, 0.1), (25, 0.1), (15, 0.2), (20, 0.2), (15, 0.3), (15, 0.5), (15, 0.7)"
   ]
  },
  {
   "cell_type": "markdown",
   "metadata": {},
   "source": [
    "クラスタリング：DBSCAN（隣接点とみなす2点間の最大距離：0.1，ボーダー点の最小個数：40）"
   ]
  },
  {
   "cell_type": "code",
   "execution_count": 50,
   "metadata": {},
   "outputs": [],
   "source": [
    "simplicial_complex = mapper.map(lens, X=data,\n",
    "                                cover=km.Cover(n_cubes=15, perc_overlap=0.7),\n",
    "                                clusterer=sklearn.cluster.DBSCAN(eps=0.1, min_samples=40))"
   ]
  },
  {
   "cell_type": "markdown",
   "metadata": {},
   "source": [
    "Mapperグラフを出力"
   ]
  },
  {
   "cell_type": "markdown",
   "metadata": {},
   "source": [
    "色：レンズの最小値との距離"
   ]
  },
  {
   "cell_type": "code",
   "execution_count": 51,
   "metadata": {},
   "outputs": [
    {
     "data": {
      "application/vnd.jupyter.widget-view+json": {
       "model_id": "d28d6585064b42888e523f912f576bb1",
       "version_major": 2,
       "version_minor": 0
      },
      "text/plain": [
       "VBox(children=(HBox(children=(FigureWidget({\n",
       "    'data': [{'hoverinfo': 'none',\n",
       "              'line': {'color'…"
      ]
     },
     "metadata": {},
     "output_type": "display_data"
    }
   ],
   "source": [
    "plotlyviz(simplicial_complex, title=\"Circle_noise\", color_values=lens, dashboard=True) "
   ]
  }
 ],
 "metadata": {
  "interpreter": {
   "hash": "bb5cf0245f7a3b589284654807c6fd6464e83f9c5586a6c4e45760b691058aff"
  },
  "kernelspec": {
   "display_name": "Python 3.9.12 ('base')",
   "language": "python",
   "name": "python3"
  },
  "language_info": {
   "codemirror_mode": {
    "name": "ipython",
    "version": 3
   },
   "file_extension": ".py",
   "mimetype": "text/x-python",
   "name": "python",
   "nbconvert_exporter": "python",
   "pygments_lexer": "ipython3",
   "version": "3.9.12"
  }
 },
 "nbformat": 4,
 "nbformat_minor": 2
}
