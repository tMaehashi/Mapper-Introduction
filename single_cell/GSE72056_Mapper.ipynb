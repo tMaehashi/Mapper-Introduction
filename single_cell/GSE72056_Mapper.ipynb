{
 "cells": [
  {
   "attachments": {},
   "cell_type": "markdown",
   "metadata": {
    "id": "wox0tClho8a6"
   },
   "source": [
    "# GSE72056-Mapper\n",
    "良性腫瘍と悪性腫瘍を含むデータセットに対してMapperを適用する．"
   ]
  },
  {
   "cell_type": "markdown",
   "metadata": {
    "id": "lD3eWQq-o_mu"
   },
   "source": [
    "## 読み込み"
   ]
  },
  {
   "cell_type": "code",
   "execution_count": 1,
   "metadata": {
    "executionInfo": {
     "elapsed": 3110,
     "status": "ok",
     "timestamp": 1667782525996,
     "user": {
      "displayName": "前橋拓歩",
      "userId": "14435859858676691587"
     },
     "user_tz": -540
    },
    "id": "-C63WRj7o8a8"
   },
   "outputs": [],
   "source": [
    "import numpy as np\n",
    "import pandas as pd\n",
    "import scanpy as sc"
   ]
  },
  {
   "cell_type": "code",
   "execution_count": 2,
   "metadata": {
    "colab": {
     "base_uri": "https://localhost:8080/",
     "height": 531
    },
    "executionInfo": {
     "elapsed": 31872,
     "status": "ok",
     "timestamp": 1667782557862,
     "user": {
      "displayName": "前橋拓歩",
      "userId": "14435859858676691587"
     },
     "user_tz": -540
    },
    "id": "ATYcN991o8a-",
    "outputId": "82ba3fdd-dcde-45ed-b189-f91ec0d55aef"
   },
   "outputs": [
    {
     "name": "stdout",
     "output_type": "stream",
     "text": [
      "(23689, 4645)\n"
     ]
    },
    {
     "data": {
      "text/html": [
       "<div>\n",
       "<style scoped>\n",
       "    .dataframe tbody tr th:only-of-type {\n",
       "        vertical-align: middle;\n",
       "    }\n",
       "\n",
       "    .dataframe tbody tr th {\n",
       "        vertical-align: top;\n",
       "    }\n",
       "\n",
       "    .dataframe thead th {\n",
       "        text-align: right;\n",
       "    }\n",
       "</style>\n",
       "<table border=\"1\" class=\"dataframe\">\n",
       "  <thead>\n",
       "    <tr style=\"text-align: right;\">\n",
       "      <th></th>\n",
       "      <th>Cy72_CD45_H02_S758_comb</th>\n",
       "      <th>CY58_1_CD45_B02_S974_comb</th>\n",
       "      <th>Cy71_CD45_D08_S524_comb</th>\n",
       "      <th>Cy81_FNA_CD45_B01_S301_comb</th>\n",
       "      <th>Cy80_II_CD45_B07_S883_comb</th>\n",
       "      <th>Cy81_Bulk_CD45_B10_S118_comb</th>\n",
       "      <th>Cy72_CD45_D09_S717_comb</th>\n",
       "      <th>Cy74_CD45_A03_S387_comb</th>\n",
       "      <th>Cy71_CD45_B05_S497_comb</th>\n",
       "      <th>Cy80_II_CD45_C09_S897_comb</th>\n",
       "      <th>...</th>\n",
       "      <th>CY75_1_CD45_CD8_7__S265_comb</th>\n",
       "      <th>CY75_1_CD45_CD8_3__S127_comb</th>\n",
       "      <th>CY75_1_CD45_CD8_1__S61_comb</th>\n",
       "      <th>CY75_1_CD45_CD8_1__S12_comb</th>\n",
       "      <th>CY75_1_CD45_CD8_1__S25_comb</th>\n",
       "      <th>CY75_1_CD45_CD8_7__S223_comb</th>\n",
       "      <th>CY75_1_CD45_CD8_1__S65_comb</th>\n",
       "      <th>CY75_1_CD45_CD8_1__S93_comb</th>\n",
       "      <th>CY75_1_CD45_CD8_1__S76_comb</th>\n",
       "      <th>CY75_1_CD45_CD8_7__S274_comb</th>\n",
       "    </tr>\n",
       "    <tr>\n",
       "      <th>Cell</th>\n",
       "      <th></th>\n",
       "      <th></th>\n",
       "      <th></th>\n",
       "      <th></th>\n",
       "      <th></th>\n",
       "      <th></th>\n",
       "      <th></th>\n",
       "      <th></th>\n",
       "      <th></th>\n",
       "      <th></th>\n",
       "      <th></th>\n",
       "      <th></th>\n",
       "      <th></th>\n",
       "      <th></th>\n",
       "      <th></th>\n",
       "      <th></th>\n",
       "      <th></th>\n",
       "      <th></th>\n",
       "      <th></th>\n",
       "      <th></th>\n",
       "      <th></th>\n",
       "    </tr>\n",
       "  </thead>\n",
       "  <tbody>\n",
       "    <tr>\n",
       "      <th>tumor</th>\n",
       "      <td>72.0000</td>\n",
       "      <td>58.0000</td>\n",
       "      <td>71.000</td>\n",
       "      <td>81.0000</td>\n",
       "      <td>80.0000</td>\n",
       "      <td>81.0000</td>\n",
       "      <td>72.0000</td>\n",
       "      <td>74.0000</td>\n",
       "      <td>71.0000</td>\n",
       "      <td>80.0000</td>\n",
       "      <td>...</td>\n",
       "      <td>75.0</td>\n",
       "      <td>75.0000</td>\n",
       "      <td>75.0000</td>\n",
       "      <td>75.00000</td>\n",
       "      <td>75.0000</td>\n",
       "      <td>75.0000</td>\n",
       "      <td>75.0000</td>\n",
       "      <td>75.0000</td>\n",
       "      <td>75.000</td>\n",
       "      <td>75.0000</td>\n",
       "    </tr>\n",
       "    <tr>\n",
       "      <th>malignant(1=no,2=yes,0=unresolved)</th>\n",
       "      <td>1.0000</td>\n",
       "      <td>1.0000</td>\n",
       "      <td>2.000</td>\n",
       "      <td>2.0000</td>\n",
       "      <td>2.0000</td>\n",
       "      <td>2.0000</td>\n",
       "      <td>1.0000</td>\n",
       "      <td>1.0000</td>\n",
       "      <td>2.0000</td>\n",
       "      <td>2.0000</td>\n",
       "      <td>...</td>\n",
       "      <td>1.0</td>\n",
       "      <td>1.0000</td>\n",
       "      <td>1.0000</td>\n",
       "      <td>1.00000</td>\n",
       "      <td>1.0000</td>\n",
       "      <td>1.0000</td>\n",
       "      <td>1.0000</td>\n",
       "      <td>1.0000</td>\n",
       "      <td>1.000</td>\n",
       "      <td>1.0000</td>\n",
       "    </tr>\n",
       "    <tr>\n",
       "      <th>non-malignant cell type (1=T,2=B,3=Macro.4=Endo.,5=CAF;6=NK)</th>\n",
       "      <td>2.0000</td>\n",
       "      <td>1.0000</td>\n",
       "      <td>0.000</td>\n",
       "      <td>0.0000</td>\n",
       "      <td>0.0000</td>\n",
       "      <td>0.0000</td>\n",
       "      <td>1.0000</td>\n",
       "      <td>1.0000</td>\n",
       "      <td>0.0000</td>\n",
       "      <td>0.0000</td>\n",
       "      <td>...</td>\n",
       "      <td>1.0</td>\n",
       "      <td>1.0000</td>\n",
       "      <td>1.0000</td>\n",
       "      <td>1.00000</td>\n",
       "      <td>1.0000</td>\n",
       "      <td>1.0000</td>\n",
       "      <td>1.0000</td>\n",
       "      <td>1.0000</td>\n",
       "      <td>1.000</td>\n",
       "      <td>0.0000</td>\n",
       "    </tr>\n",
       "    <tr>\n",
       "      <th>C9orf152</th>\n",
       "      <td>0.0000</td>\n",
       "      <td>0.0000</td>\n",
       "      <td>0.000</td>\n",
       "      <td>0.0000</td>\n",
       "      <td>0.0000</td>\n",
       "      <td>0.0000</td>\n",
       "      <td>0.0000</td>\n",
       "      <td>0.0000</td>\n",
       "      <td>0.0000</td>\n",
       "      <td>0.0000</td>\n",
       "      <td>...</td>\n",
       "      <td>0.0</td>\n",
       "      <td>0.0000</td>\n",
       "      <td>0.0000</td>\n",
       "      <td>0.00000</td>\n",
       "      <td>0.0000</td>\n",
       "      <td>0.0000</td>\n",
       "      <td>0.0000</td>\n",
       "      <td>0.0000</td>\n",
       "      <td>0.000</td>\n",
       "      <td>0.0000</td>\n",
       "    </tr>\n",
       "    <tr>\n",
       "      <th>RPS11</th>\n",
       "      <td>9.2172</td>\n",
       "      <td>8.3745</td>\n",
       "      <td>9.313</td>\n",
       "      <td>7.8876</td>\n",
       "      <td>8.3291</td>\n",
       "      <td>7.8336</td>\n",
       "      <td>8.3737</td>\n",
       "      <td>8.1338</td>\n",
       "      <td>8.4373</td>\n",
       "      <td>7.5968</td>\n",
       "      <td>...</td>\n",
       "      <td>0.0</td>\n",
       "      <td>7.8639</td>\n",
       "      <td>5.8505</td>\n",
       "      <td>0.62639</td>\n",
       "      <td>6.2734</td>\n",
       "      <td>5.4889</td>\n",
       "      <td>4.9262</td>\n",
       "      <td>7.0958</td>\n",
       "      <td>3.997</td>\n",
       "      <td>3.9897</td>\n",
       "    </tr>\n",
       "  </tbody>\n",
       "</table>\n",
       "<p>5 rows × 4645 columns</p>\n",
       "</div>"
      ],
      "text/plain": [
       "                                                    Cy72_CD45_H02_S758_comb   \n",
       "Cell                                                                          \n",
       "tumor                                                               72.0000  \\\n",
       "malignant(1=no,2=yes,0=unresolved)                                   1.0000   \n",
       "non-malignant cell type (1=T,2=B,3=Macro.4=Endo...                   2.0000   \n",
       "C9orf152                                                             0.0000   \n",
       "RPS11                                                                9.2172   \n",
       "\n",
       "                                                    CY58_1_CD45_B02_S974_comb   \n",
       "Cell                                                                            \n",
       "tumor                                                                 58.0000  \\\n",
       "malignant(1=no,2=yes,0=unresolved)                                     1.0000   \n",
       "non-malignant cell type (1=T,2=B,3=Macro.4=Endo...                     1.0000   \n",
       "C9orf152                                                               0.0000   \n",
       "RPS11                                                                  8.3745   \n",
       "\n",
       "                                                    Cy71_CD45_D08_S524_comb   \n",
       "Cell                                                                          \n",
       "tumor                                                                71.000  \\\n",
       "malignant(1=no,2=yes,0=unresolved)                                    2.000   \n",
       "non-malignant cell type (1=T,2=B,3=Macro.4=Endo...                    0.000   \n",
       "C9orf152                                                              0.000   \n",
       "RPS11                                                                 9.313   \n",
       "\n",
       "                                                    Cy81_FNA_CD45_B01_S301_comb   \n",
       "Cell                                                                              \n",
       "tumor                                                                   81.0000  \\\n",
       "malignant(1=no,2=yes,0=unresolved)                                       2.0000   \n",
       "non-malignant cell type (1=T,2=B,3=Macro.4=Endo...                       0.0000   \n",
       "C9orf152                                                                 0.0000   \n",
       "RPS11                                                                    7.8876   \n",
       "\n",
       "                                                    Cy80_II_CD45_B07_S883_comb   \n",
       "Cell                                                                             \n",
       "tumor                                                                  80.0000  \\\n",
       "malignant(1=no,2=yes,0=unresolved)                                      2.0000   \n",
       "non-malignant cell type (1=T,2=B,3=Macro.4=Endo...                      0.0000   \n",
       "C9orf152                                                                0.0000   \n",
       "RPS11                                                                   8.3291   \n",
       "\n",
       "                                                    Cy81_Bulk_CD45_B10_S118_comb   \n",
       "Cell                                                                               \n",
       "tumor                                                                    81.0000  \\\n",
       "malignant(1=no,2=yes,0=unresolved)                                        2.0000   \n",
       "non-malignant cell type (1=T,2=B,3=Macro.4=Endo...                        0.0000   \n",
       "C9orf152                                                                  0.0000   \n",
       "RPS11                                                                     7.8336   \n",
       "\n",
       "                                                    Cy72_CD45_D09_S717_comb   \n",
       "Cell                                                                          \n",
       "tumor                                                               72.0000  \\\n",
       "malignant(1=no,2=yes,0=unresolved)                                   1.0000   \n",
       "non-malignant cell type (1=T,2=B,3=Macro.4=Endo...                   1.0000   \n",
       "C9orf152                                                             0.0000   \n",
       "RPS11                                                                8.3737   \n",
       "\n",
       "                                                    Cy74_CD45_A03_S387_comb   \n",
       "Cell                                                                          \n",
       "tumor                                                               74.0000  \\\n",
       "malignant(1=no,2=yes,0=unresolved)                                   1.0000   \n",
       "non-malignant cell type (1=T,2=B,3=Macro.4=Endo...                   1.0000   \n",
       "C9orf152                                                             0.0000   \n",
       "RPS11                                                                8.1338   \n",
       "\n",
       "                                                    Cy71_CD45_B05_S497_comb   \n",
       "Cell                                                                          \n",
       "tumor                                                               71.0000  \\\n",
       "malignant(1=no,2=yes,0=unresolved)                                   2.0000   \n",
       "non-malignant cell type (1=T,2=B,3=Macro.4=Endo...                   0.0000   \n",
       "C9orf152                                                             0.0000   \n",
       "RPS11                                                                8.4373   \n",
       "\n",
       "                                                    Cy80_II_CD45_C09_S897_comb   \n",
       "Cell                                                                             \n",
       "tumor                                                                  80.0000  \\\n",
       "malignant(1=no,2=yes,0=unresolved)                                      2.0000   \n",
       "non-malignant cell type (1=T,2=B,3=Macro.4=Endo...                      0.0000   \n",
       "C9orf152                                                                0.0000   \n",
       "RPS11                                                                   7.5968   \n",
       "\n",
       "                                                    ...   \n",
       "Cell                                                ...   \n",
       "tumor                                               ...  \\\n",
       "malignant(1=no,2=yes,0=unresolved)                  ...   \n",
       "non-malignant cell type (1=T,2=B,3=Macro.4=Endo...  ...   \n",
       "C9orf152                                            ...   \n",
       "RPS11                                               ...   \n",
       "\n",
       "                                                    CY75_1_CD45_CD8_7__S265_comb   \n",
       "Cell                                                                               \n",
       "tumor                                                                       75.0  \\\n",
       "malignant(1=no,2=yes,0=unresolved)                                           1.0   \n",
       "non-malignant cell type (1=T,2=B,3=Macro.4=Endo...                           1.0   \n",
       "C9orf152                                                                     0.0   \n",
       "RPS11                                                                        0.0   \n",
       "\n",
       "                                                    CY75_1_CD45_CD8_3__S127_comb   \n",
       "Cell                                                                               \n",
       "tumor                                                                    75.0000  \\\n",
       "malignant(1=no,2=yes,0=unresolved)                                        1.0000   \n",
       "non-malignant cell type (1=T,2=B,3=Macro.4=Endo...                        1.0000   \n",
       "C9orf152                                                                  0.0000   \n",
       "RPS11                                                                     7.8639   \n",
       "\n",
       "                                                    CY75_1_CD45_CD8_1__S61_comb   \n",
       "Cell                                                                              \n",
       "tumor                                                                   75.0000  \\\n",
       "malignant(1=no,2=yes,0=unresolved)                                       1.0000   \n",
       "non-malignant cell type (1=T,2=B,3=Macro.4=Endo...                       1.0000   \n",
       "C9orf152                                                                 0.0000   \n",
       "RPS11                                                                    5.8505   \n",
       "\n",
       "                                                    CY75_1_CD45_CD8_1__S12_comb   \n",
       "Cell                                                                              \n",
       "tumor                                                                  75.00000  \\\n",
       "malignant(1=no,2=yes,0=unresolved)                                      1.00000   \n",
       "non-malignant cell type (1=T,2=B,3=Macro.4=Endo...                      1.00000   \n",
       "C9orf152                                                                0.00000   \n",
       "RPS11                                                                   0.62639   \n",
       "\n",
       "                                                    CY75_1_CD45_CD8_1__S25_comb   \n",
       "Cell                                                                              \n",
       "tumor                                                                   75.0000  \\\n",
       "malignant(1=no,2=yes,0=unresolved)                                       1.0000   \n",
       "non-malignant cell type (1=T,2=B,3=Macro.4=Endo...                       1.0000   \n",
       "C9orf152                                                                 0.0000   \n",
       "RPS11                                                                    6.2734   \n",
       "\n",
       "                                                    CY75_1_CD45_CD8_7__S223_comb   \n",
       "Cell                                                                               \n",
       "tumor                                                                    75.0000  \\\n",
       "malignant(1=no,2=yes,0=unresolved)                                        1.0000   \n",
       "non-malignant cell type (1=T,2=B,3=Macro.4=Endo...                        1.0000   \n",
       "C9orf152                                                                  0.0000   \n",
       "RPS11                                                                     5.4889   \n",
       "\n",
       "                                                    CY75_1_CD45_CD8_1__S65_comb   \n",
       "Cell                                                                              \n",
       "tumor                                                                   75.0000  \\\n",
       "malignant(1=no,2=yes,0=unresolved)                                       1.0000   \n",
       "non-malignant cell type (1=T,2=B,3=Macro.4=Endo...                       1.0000   \n",
       "C9orf152                                                                 0.0000   \n",
       "RPS11                                                                    4.9262   \n",
       "\n",
       "                                                    CY75_1_CD45_CD8_1__S93_comb   \n",
       "Cell                                                                              \n",
       "tumor                                                                   75.0000  \\\n",
       "malignant(1=no,2=yes,0=unresolved)                                       1.0000   \n",
       "non-malignant cell type (1=T,2=B,3=Macro.4=Endo...                       1.0000   \n",
       "C9orf152                                                                 0.0000   \n",
       "RPS11                                                                    7.0958   \n",
       "\n",
       "                                                    CY75_1_CD45_CD8_1__S76_comb   \n",
       "Cell                                                                              \n",
       "tumor                                                                    75.000  \\\n",
       "malignant(1=no,2=yes,0=unresolved)                                        1.000   \n",
       "non-malignant cell type (1=T,2=B,3=Macro.4=Endo...                        1.000   \n",
       "C9orf152                                                                  0.000   \n",
       "RPS11                                                                     3.997   \n",
       "\n",
       "                                                    CY75_1_CD45_CD8_7__S274_comb  \n",
       "Cell                                                                              \n",
       "tumor                                                                    75.0000  \n",
       "malignant(1=no,2=yes,0=unresolved)                                        1.0000  \n",
       "non-malignant cell type (1=T,2=B,3=Macro.4=Endo...                        0.0000  \n",
       "C9orf152                                                                  0.0000  \n",
       "RPS11                                                                     3.9897  \n",
       "\n",
       "[5 rows x 4645 columns]"
      ]
     },
     "execution_count": 2,
     "metadata": {},
     "output_type": "execute_result"
    }
   ],
   "source": [
    "data = pd.read_table('GSE72056_melanoma_single_cell_revised_v2.txt', index_col=0) \n",
    "print(data.shape)\n",
    "data.head()\n",
    "# 遺伝子×細胞"
   ]
  },
  {
   "cell_type": "code",
   "execution_count": 3,
   "metadata": {
    "colab": {
     "base_uri": "https://localhost:8080/",
     "height": 514
    },
    "executionInfo": {
     "elapsed": 14,
     "status": "ok",
     "timestamp": 1667782557863,
     "user": {
      "displayName": "前橋拓歩",
      "userId": "14435859858676691587"
     },
     "user_tz": -540
    },
    "id": "vgf-6CTDo8bB",
    "outputId": "b24a0a8a-b1b0-45c6-9a8c-a86906428a4a",
    "scrolled": true
   },
   "outputs": [
    {
     "name": "stdout",
     "output_type": "stream",
     "text": [
      "(23686, 4645)\n"
     ]
    },
    {
     "data": {
      "text/html": [
       "<div>\n",
       "<style scoped>\n",
       "    .dataframe tbody tr th:only-of-type {\n",
       "        vertical-align: middle;\n",
       "    }\n",
       "\n",
       "    .dataframe tbody tr th {\n",
       "        vertical-align: top;\n",
       "    }\n",
       "\n",
       "    .dataframe thead th {\n",
       "        text-align: right;\n",
       "    }\n",
       "</style>\n",
       "<table border=\"1\" class=\"dataframe\">\n",
       "  <thead>\n",
       "    <tr style=\"text-align: right;\">\n",
       "      <th></th>\n",
       "      <th>Cy72_CD45_H02_S758_comb</th>\n",
       "      <th>CY58_1_CD45_B02_S974_comb</th>\n",
       "      <th>Cy71_CD45_D08_S524_comb</th>\n",
       "      <th>Cy81_FNA_CD45_B01_S301_comb</th>\n",
       "      <th>Cy80_II_CD45_B07_S883_comb</th>\n",
       "      <th>Cy81_Bulk_CD45_B10_S118_comb</th>\n",
       "      <th>Cy72_CD45_D09_S717_comb</th>\n",
       "      <th>Cy74_CD45_A03_S387_comb</th>\n",
       "      <th>Cy71_CD45_B05_S497_comb</th>\n",
       "      <th>Cy80_II_CD45_C09_S897_comb</th>\n",
       "      <th>...</th>\n",
       "      <th>CY75_1_CD45_CD8_7__S265_comb</th>\n",
       "      <th>CY75_1_CD45_CD8_3__S127_comb</th>\n",
       "      <th>CY75_1_CD45_CD8_1__S61_comb</th>\n",
       "      <th>CY75_1_CD45_CD8_1__S12_comb</th>\n",
       "      <th>CY75_1_CD45_CD8_1__S25_comb</th>\n",
       "      <th>CY75_1_CD45_CD8_7__S223_comb</th>\n",
       "      <th>CY75_1_CD45_CD8_1__S65_comb</th>\n",
       "      <th>CY75_1_CD45_CD8_1__S93_comb</th>\n",
       "      <th>CY75_1_CD45_CD8_1__S76_comb</th>\n",
       "      <th>CY75_1_CD45_CD8_7__S274_comb</th>\n",
       "    </tr>\n",
       "    <tr>\n",
       "      <th>Cell</th>\n",
       "      <th></th>\n",
       "      <th></th>\n",
       "      <th></th>\n",
       "      <th></th>\n",
       "      <th></th>\n",
       "      <th></th>\n",
       "      <th></th>\n",
       "      <th></th>\n",
       "      <th></th>\n",
       "      <th></th>\n",
       "      <th></th>\n",
       "      <th></th>\n",
       "      <th></th>\n",
       "      <th></th>\n",
       "      <th></th>\n",
       "      <th></th>\n",
       "      <th></th>\n",
       "      <th></th>\n",
       "      <th></th>\n",
       "      <th></th>\n",
       "      <th></th>\n",
       "    </tr>\n",
       "  </thead>\n",
       "  <tbody>\n",
       "    <tr>\n",
       "      <th>C9orf152</th>\n",
       "      <td>0.0000</td>\n",
       "      <td>0.0000</td>\n",
       "      <td>0.0000</td>\n",
       "      <td>0.0000</td>\n",
       "      <td>0.0000</td>\n",
       "      <td>0.0000</td>\n",
       "      <td>0.0000</td>\n",
       "      <td>0.0000</td>\n",
       "      <td>0.0000</td>\n",
       "      <td>0.00000</td>\n",
       "      <td>...</td>\n",
       "      <td>0.0</td>\n",
       "      <td>0.0000</td>\n",
       "      <td>0.0000</td>\n",
       "      <td>0.00000</td>\n",
       "      <td>0.0000</td>\n",
       "      <td>0.0000</td>\n",
       "      <td>0.0000</td>\n",
       "      <td>0.0000</td>\n",
       "      <td>0.000</td>\n",
       "      <td>0.0000</td>\n",
       "    </tr>\n",
       "    <tr>\n",
       "      <th>RPS11</th>\n",
       "      <td>9.2172</td>\n",
       "      <td>8.3745</td>\n",
       "      <td>9.3130</td>\n",
       "      <td>7.8876</td>\n",
       "      <td>8.3291</td>\n",
       "      <td>7.8336</td>\n",
       "      <td>8.3737</td>\n",
       "      <td>8.1338</td>\n",
       "      <td>8.4373</td>\n",
       "      <td>7.59680</td>\n",
       "      <td>...</td>\n",
       "      <td>0.0</td>\n",
       "      <td>7.8639</td>\n",
       "      <td>5.8505</td>\n",
       "      <td>0.62639</td>\n",
       "      <td>6.2734</td>\n",
       "      <td>5.4889</td>\n",
       "      <td>4.9262</td>\n",
       "      <td>7.0958</td>\n",
       "      <td>3.997</td>\n",
       "      <td>3.9897</td>\n",
       "    </tr>\n",
       "    <tr>\n",
       "      <th>ELMO2</th>\n",
       "      <td>0.0000</td>\n",
       "      <td>0.0000</td>\n",
       "      <td>2.1263</td>\n",
       "      <td>0.0000</td>\n",
       "      <td>0.0000</td>\n",
       "      <td>0.7740</td>\n",
       "      <td>0.0000</td>\n",
       "      <td>0.0000</td>\n",
       "      <td>0.0000</td>\n",
       "      <td>0.38294</td>\n",
       "      <td>...</td>\n",
       "      <td>0.0</td>\n",
       "      <td>0.0000</td>\n",
       "      <td>3.1572</td>\n",
       "      <td>4.79320</td>\n",
       "      <td>0.0000</td>\n",
       "      <td>0.0000</td>\n",
       "      <td>5.5296</td>\n",
       "      <td>0.0000</td>\n",
       "      <td>0.000</td>\n",
       "      <td>0.0000</td>\n",
       "    </tr>\n",
       "    <tr>\n",
       "      <th>CREB3L1</th>\n",
       "      <td>0.0000</td>\n",
       "      <td>0.0000</td>\n",
       "      <td>0.0000</td>\n",
       "      <td>0.0000</td>\n",
       "      <td>0.0000</td>\n",
       "      <td>0.0000</td>\n",
       "      <td>0.0000</td>\n",
       "      <td>0.0000</td>\n",
       "      <td>0.0000</td>\n",
       "      <td>0.00000</td>\n",
       "      <td>...</td>\n",
       "      <td>0.0</td>\n",
       "      <td>0.0000</td>\n",
       "      <td>0.0000</td>\n",
       "      <td>0.00000</td>\n",
       "      <td>0.0000</td>\n",
       "      <td>0.0000</td>\n",
       "      <td>0.0000</td>\n",
       "      <td>0.0000</td>\n",
       "      <td>0.000</td>\n",
       "      <td>0.0000</td>\n",
       "    </tr>\n",
       "    <tr>\n",
       "      <th>PNMA1</th>\n",
       "      <td>0.0000</td>\n",
       "      <td>0.0000</td>\n",
       "      <td>0.0000</td>\n",
       "      <td>0.0000</td>\n",
       "      <td>0.0000</td>\n",
       "      <td>0.0000</td>\n",
       "      <td>0.0000</td>\n",
       "      <td>0.0000</td>\n",
       "      <td>0.0000</td>\n",
       "      <td>2.51420</td>\n",
       "      <td>...</td>\n",
       "      <td>0.0</td>\n",
       "      <td>0.0000</td>\n",
       "      <td>0.0000</td>\n",
       "      <td>0.00000</td>\n",
       "      <td>0.0000</td>\n",
       "      <td>0.0000</td>\n",
       "      <td>0.0000</td>\n",
       "      <td>0.0000</td>\n",
       "      <td>0.000</td>\n",
       "      <td>0.0000</td>\n",
       "    </tr>\n",
       "  </tbody>\n",
       "</table>\n",
       "<p>5 rows × 4645 columns</p>\n",
       "</div>"
      ],
      "text/plain": [
       "          Cy72_CD45_H02_S758_comb  CY58_1_CD45_B02_S974_comb   \n",
       "Cell                                                           \n",
       "C9orf152                   0.0000                     0.0000  \\\n",
       "RPS11                      9.2172                     8.3745   \n",
       "ELMO2                      0.0000                     0.0000   \n",
       "CREB3L1                    0.0000                     0.0000   \n",
       "PNMA1                      0.0000                     0.0000   \n",
       "\n",
       "          Cy71_CD45_D08_S524_comb  Cy81_FNA_CD45_B01_S301_comb   \n",
       "Cell                                                             \n",
       "C9orf152                   0.0000                       0.0000  \\\n",
       "RPS11                      9.3130                       7.8876   \n",
       "ELMO2                      2.1263                       0.0000   \n",
       "CREB3L1                    0.0000                       0.0000   \n",
       "PNMA1                      0.0000                       0.0000   \n",
       "\n",
       "          Cy80_II_CD45_B07_S883_comb  Cy81_Bulk_CD45_B10_S118_comb   \n",
       "Cell                                                                 \n",
       "C9orf152                      0.0000                        0.0000  \\\n",
       "RPS11                         8.3291                        7.8336   \n",
       "ELMO2                         0.0000                        0.7740   \n",
       "CREB3L1                       0.0000                        0.0000   \n",
       "PNMA1                         0.0000                        0.0000   \n",
       "\n",
       "          Cy72_CD45_D09_S717_comb  Cy74_CD45_A03_S387_comb   \n",
       "Cell                                                         \n",
       "C9orf152                   0.0000                   0.0000  \\\n",
       "RPS11                      8.3737                   8.1338   \n",
       "ELMO2                      0.0000                   0.0000   \n",
       "CREB3L1                    0.0000                   0.0000   \n",
       "PNMA1                      0.0000                   0.0000   \n",
       "\n",
       "          Cy71_CD45_B05_S497_comb  Cy80_II_CD45_C09_S897_comb  ...   \n",
       "Cell                                                           ...   \n",
       "C9orf152                   0.0000                     0.00000  ...  \\\n",
       "RPS11                      8.4373                     7.59680  ...   \n",
       "ELMO2                      0.0000                     0.38294  ...   \n",
       "CREB3L1                    0.0000                     0.00000  ...   \n",
       "PNMA1                      0.0000                     2.51420  ...   \n",
       "\n",
       "          CY75_1_CD45_CD8_7__S265_comb  CY75_1_CD45_CD8_3__S127_comb   \n",
       "Cell                                                                   \n",
       "C9orf152                           0.0                        0.0000  \\\n",
       "RPS11                              0.0                        7.8639   \n",
       "ELMO2                              0.0                        0.0000   \n",
       "CREB3L1                            0.0                        0.0000   \n",
       "PNMA1                              0.0                        0.0000   \n",
       "\n",
       "          CY75_1_CD45_CD8_1__S61_comb  CY75_1_CD45_CD8_1__S12_comb   \n",
       "Cell                                                                 \n",
       "C9orf152                       0.0000                      0.00000  \\\n",
       "RPS11                          5.8505                      0.62639   \n",
       "ELMO2                          3.1572                      4.79320   \n",
       "CREB3L1                        0.0000                      0.00000   \n",
       "PNMA1                          0.0000                      0.00000   \n",
       "\n",
       "          CY75_1_CD45_CD8_1__S25_comb  CY75_1_CD45_CD8_7__S223_comb   \n",
       "Cell                                                                  \n",
       "C9orf152                       0.0000                        0.0000  \\\n",
       "RPS11                          6.2734                        5.4889   \n",
       "ELMO2                          0.0000                        0.0000   \n",
       "CREB3L1                        0.0000                        0.0000   \n",
       "PNMA1                          0.0000                        0.0000   \n",
       "\n",
       "          CY75_1_CD45_CD8_1__S65_comb  CY75_1_CD45_CD8_1__S93_comb   \n",
       "Cell                                                                 \n",
       "C9orf152                       0.0000                       0.0000  \\\n",
       "RPS11                          4.9262                       7.0958   \n",
       "ELMO2                          5.5296                       0.0000   \n",
       "CREB3L1                        0.0000                       0.0000   \n",
       "PNMA1                          0.0000                       0.0000   \n",
       "\n",
       "          CY75_1_CD45_CD8_1__S76_comb  CY75_1_CD45_CD8_7__S274_comb  \n",
       "Cell                                                                 \n",
       "C9orf152                        0.000                        0.0000  \n",
       "RPS11                           3.997                        3.9897  \n",
       "ELMO2                           0.000                        0.0000  \n",
       "CREB3L1                         0.000                        0.0000  \n",
       "PNMA1                           0.000                        0.0000  \n",
       "\n",
       "[5 rows x 4645 columns]"
      ]
     },
     "execution_count": 3,
     "metadata": {},
     "output_type": "execute_result"
    }
   ],
   "source": [
    "df = data.drop(['tumor', 'malignant(1=no,2=yes,0=unresolved)', 'non-malignant cell type (1=T,2=B,3=Macro.4=Endo.,5=CAF;6=NK)'], \n",
    "          axis=0) # 行（遺伝子）を削除\n",
    "print(df.shape)\n",
    "df.head()"
   ]
  },
  {
   "attachments": {},
   "cell_type": "markdown",
   "metadata": {
    "id": "4KMUTlQ7o8bB"
   },
   "source": [
    "最初の3行を削除すると，23686個の遺伝子になる．  "
   ]
  },
  {
   "cell_type": "code",
   "execution_count": 6,
   "metadata": {
    "colab": {
     "base_uri": "https://localhost:8080/"
    },
    "executionInfo": {
     "elapsed": 10,
     "status": "ok",
     "timestamp": 1667782558322,
     "user": {
      "displayName": "前橋拓歩",
      "userId": "14435859858676691587"
     },
     "user_tz": -540
    },
    "id": "p6Ausf9Eo8bA",
    "outputId": "2f6d8e57-924e-4f05-fd2a-a446ff2fbfd9"
   },
   "outputs": [
    {
     "data": {
      "text/plain": [
       "array([1., 1., 2., ..., 1., 1., 1.])"
      ]
     },
     "execution_count": 6,
     "metadata": {},
     "output_type": "execute_result"
    }
   ],
   "source": [
    "malignant_label = np.array(data.iloc[1, :].to_list()) # 0から数えて1行目（悪性ラベル）を抽出\n",
    "malignant_label"
   ]
  },
  {
   "cell_type": "code",
   "execution_count": 7,
   "metadata": {
    "colab": {
     "base_uri": "https://localhost:8080/"
    },
    "executionInfo": {
     "elapsed": 8,
     "status": "ok",
     "timestamp": 1667782558322,
     "user": {
      "displayName": "前橋拓歩",
      "userId": "14435859858676691587"
     },
     "user_tz": -540
    },
    "id": "JzuePnSho8bC",
    "outputId": "b4e71e02-cc9e-419f-bfe9-cbffeea8dbf3"
   },
   "outputs": [
    {
     "data": {
      "text/plain": [
       "array([[0.    , 9.2172, 0.    , ..., 0.    , 2.6638, 0.    ],\n",
       "       [0.    , 8.3745, 0.    , ..., 0.    , 6.9901, 0.    ],\n",
       "       [0.    , 9.313 , 2.1263, ..., 3.8777, 1.6126, 0.    ],\n",
       "       ...,\n",
       "       [0.    , 7.0958, 0.    , ..., 0.    , 1.9615, 0.    ],\n",
       "       [0.    , 3.997 , 0.    , ..., 0.    , 7.1918, 0.    ],\n",
       "       [0.    , 3.9897, 0.    , ..., 5.2398, 6.1588, 0.    ]])"
      ]
     },
     "execution_count": 7,
     "metadata": {},
     "output_type": "execute_result"
    }
   ],
   "source": [
    "tpm = df.values.T # 値のみ転置\n",
    "tpm"
   ]
  },
  {
   "cell_type": "markdown",
   "metadata": {
    "id": "TmeKO3BOo8bD"
   },
   "source": [
    "行が細胞，列が遺伝子になった．"
   ]
  },
  {
   "cell_type": "code",
   "execution_count": 8,
   "metadata": {
    "colab": {
     "base_uri": "https://localhost:8080/"
    },
    "executionInfo": {
     "elapsed": 6,
     "status": "ok",
     "timestamp": 1667782558322,
     "user": {
      "displayName": "前橋拓歩",
      "userId": "14435859858676691587"
     },
     "user_tz": -540
    },
    "id": "t-A_beU-o8bD",
    "outputId": "49ac963b-7441-422b-963b-6ef422af519c"
   },
   "outputs": [
    {
     "data": {
      "text/plain": [
       "(4645, 23686)"
      ]
     },
     "execution_count": 8,
     "metadata": {},
     "output_type": "execute_result"
    }
   ],
   "source": [
    "tpm.shape"
   ]
  },
  {
   "cell_type": "markdown",
   "metadata": {
    "id": "YrGQ_Eb3o8bD"
   },
   "source": [
    "## 遺伝子の抽出"
   ]
  },
  {
   "cell_type": "code",
   "execution_count": 9,
   "metadata": {
    "executionInfo": {
     "elapsed": 390,
     "status": "ok",
     "timestamp": 1667782558709,
     "user": {
      "displayName": "前橋拓歩",
      "userId": "14435859858676691587"
     },
     "user_tz": -540
    },
    "id": "tJOW2zngo8bD"
   },
   "outputs": [],
   "source": [
    "tpm_mean = np.mean(tpm, axis=0) # 列ごと（遺伝子ごと）に平均発現量を計算\n",
    "tpm_mean_sort = np.sort(tpm_mean)[::-1] # tpm_meanを大きい順にソート\n",
    "\n",
    "tpm_var = np.var(tpm, axis=0) # 列ごと（遺伝子ごと）に発現量の分散を計算\n",
    "tpm_var_sort = np.sort(tpm_var)[::-1] # tpm_varを大きい順にソート"
   ]
  },
  {
   "cell_type": "markdown",
   "metadata": {
    "id": "SxckV55Do8bE"
   },
   "source": [
    "平均／分散発現量が大きい方から7000個の遺伝子を抽出（配列の6999番まで）"
   ]
  },
  {
   "cell_type": "code",
   "execution_count": 10,
   "metadata": {
    "colab": {
     "base_uri": "https://localhost:8080/"
    },
    "executionInfo": {
     "elapsed": 5,
     "status": "ok",
     "timestamp": 1667782558709,
     "user": {
      "displayName": "前橋拓歩",
      "userId": "14435859858676691587"
     },
     "user_tz": -540
    },
    "id": "RL3OShSeo8bE",
    "outputId": "d13d49f3-3930-45c4-b460-2b69413f6650"
   },
   "outputs": [
    {
     "name": "stdout",
     "output_type": "stream",
     "text": [
      "0.507662716275565\n",
      "1.1790234203006325\n"
     ]
    }
   ],
   "source": [
    "# 閾値\n",
    "print(tpm_mean_sort[6999]) \n",
    "print(tpm_var_sort[6999])"
   ]
  },
  {
   "cell_type": "code",
   "execution_count": 11,
   "metadata": {
    "colab": {
     "base_uri": "https://localhost:8080/"
    },
    "executionInfo": {
     "elapsed": 6,
     "status": "ok",
     "timestamp": 1667782558949,
     "user": {
      "displayName": "前橋拓歩",
      "userId": "14435859858676691587"
     },
     "user_tz": -540
    },
    "id": "I05kY50no8bE",
    "outputId": "044c7983-1350-492b-91a3-8b703b37c24e"
   },
   "outputs": [
    {
     "data": {
      "text/plain": [
       "(4645, 6066)"
      ]
     },
     "execution_count": 11,
     "metadata": {},
     "output_type": "execute_result"
    }
   ],
   "source": [
    "c = (tpm_mean >= tpm_mean_sort[6999]) & (tpm_var >= tpm_var_sort[6999])\n",
    "G = tpm[:,c]\n",
    "G.shape"
   ]
  },
  {
   "cell_type": "markdown",
   "metadata": {
    "id": "HQjXDnZZo8bE"
   },
   "source": [
    "## Kepler Mapper"
   ]
  },
  {
   "cell_type": "code",
   "execution_count": 12,
   "metadata": {
    "executionInfo": {
     "elapsed": 383,
     "status": "ok",
     "timestamp": 1667782568576,
     "user": {
      "displayName": "前橋拓歩",
      "userId": "14435859858676691587"
     },
     "user_tz": -540
    },
    "id": "CjFNDa4Qo8bE"
   },
   "outputs": [],
   "source": [
    "import kmapper as km \n",
    "from kmapper.plotlyviz import plotlyviz\n",
    "import sklearn\n",
    "\n",
    "mapper = km.KeplerMapper(verbose=0)"
   ]
  },
  {
   "cell_type": "markdown",
   "metadata": {
    "id": "SiZze6zZo8bF"
   },
   "source": [
    "フィルター関数・レンズ：離心率\n",
    "\n",
    "L2ノルムで細胞間の距離行列を作成\n",
    "\n",
    "【参考】機械学習帳11.4.1.距離行列を求める"
   ]
  },
  {
   "cell_type": "code",
   "execution_count": 13,
   "metadata": {
    "colab": {
     "base_uri": "https://localhost:8080/"
    },
    "executionInfo": {
     "elapsed": 269250,
     "status": "ok",
     "timestamp": 1667782837823,
     "user": {
      "displayName": "前橋拓歩",
      "userId": "14435859858676691587"
     },
     "user_tz": -540
    },
    "id": "JqkestHKo8bF",
    "outputId": "2b4c9cec-29c1-4e64-f2c5-761519706a21",
    "scrolled": true
   },
   "outputs": [
    {
     "data": {
      "text/plain": [
       "(4645, 4645)"
      ]
     },
     "execution_count": 13,
     "metadata": {},
     "output_type": "execute_result"
    }
   ],
   "source": [
    "from scipy.spatial.distance import pdist\n",
    "from scipy.spatial.distance import squareform\n",
    "\n",
    "cell_dists = pdist(G)\n",
    "G_dists = squareform(cell_dists)\n",
    "G_dists.shape"
   ]
  },
  {
   "cell_type": "code",
   "execution_count": 14,
   "metadata": {
    "executionInfo": {
     "elapsed": 9,
     "status": "ok",
     "timestamp": 1667782837824,
     "user": {
      "displayName": "前橋拓歩",
      "userId": "14435859858676691587"
     },
     "user_tz": -540
    },
    "id": "BRsxD844o8bG"
   },
   "outputs": [],
   "source": [
    "# 離心率を求める関数\n",
    "def eccentricity(dists, p):\n",
    "  if p == np.inf:\n",
    "    return np.max(dists, axis=1) \n",
    "  else:\n",
    "    N = len(dists)\n",
    "    E = (np.sum(dists**p, axis=1)/N)**(1/p)\n",
    "    return E\n",
    "# np.sumのaxis=1は行方向（行が大きくなる方向：縦方向）の和．"
   ]
  },
  {
   "cell_type": "code",
   "execution_count": 15,
   "metadata": {
    "executionInfo": {
     "elapsed": 5,
     "status": "ok",
     "timestamp": 1667782837824,
     "user": {
      "displayName": "前橋拓歩",
      "userId": "14435859858676691587"
     },
     "user_tz": -540
    },
    "id": "asU-LE5To8bG"
   },
   "outputs": [],
   "source": [
    "# 各細胞の離心率，L2ノルムを考えている．\n",
    "lens_0 = eccentricity(G_dists, 2)\n",
    "\n",
    "# レンズの形を変換\n",
    "lens = lens_0.reshape(lens_0.shape[0], 1)"
   ]
  },
  {
   "cell_type": "markdown",
   "metadata": {
    "id": "huitOcF6o8bG"
   },
   "source": [
    "被覆の数：\n",
    "\n",
    "被覆の重なり：\n",
    "\n",
    "クラスタリング：HDBSCAN"
   ]
  },
  {
   "cell_type": "code",
   "execution_count": 19,
   "metadata": {},
   "outputs": [],
   "source": [
    "import hdbscan"
   ]
  },
  {
   "cell_type": "code",
   "execution_count": 20,
   "metadata": {
    "executionInfo": {
     "elapsed": 114272,
     "status": "ok",
     "timestamp": 1667784765011,
     "user": {
      "displayName": "前橋拓歩",
      "userId": "14435859858676691587"
     },
     "user_tz": -540
    },
    "id": "ODpM_WfFYp5V"
   },
   "outputs": [],
   "source": [
    "simplicial_complex = mapper.map(lens, X=G,\n",
    "                                cover=km.Cover(n_cubes=15, perc_overlap=0.3),\n",
    "                                clusterer=hdbscan.HDBSCAN(gen_min_span_tree=True, min_cluster_size=5))"
   ]
  },
  {
   "cell_type": "markdown",
   "metadata": {},
   "source": [
    "## Mapperグラフを出力  "
   ]
  },
  {
   "cell_type": "code",
   "execution_count": 24,
   "metadata": {},
   "outputs": [
    {
     "data": {
      "application/vnd.jupyter.widget-view+json": {
       "model_id": "509c6ad275984333810f84b5f6a327b4",
       "version_major": 2,
       "version_minor": 0
      },
      "text/plain": [
       "VBox(children=(HBox(children=(FigureWidget({\n",
       "    'data': [{'hoverinfo': 'none',\n",
       "              'line': {'color'…"
      ]
     },
     "execution_count": 24,
     "metadata": {},
     "output_type": "execute_result"
    }
   ],
   "source": [
    "plotlyviz(simplicial_complex, title='melanoma_malignant', color_values=malignant_label, dashboard=True) "
   ]
  },
  {
   "cell_type": "code",
   "execution_count": 21,
   "metadata": {},
   "outputs": [],
   "source": [
    "# https://colorbrewer2.org/#type=diverging&scheme=Spectral&n=11            \n",
    "color_bar = [[0.0, '#5e4fa2'], \n",
    "             [0.1, '#3288bd'],\n",
    "             [0.2, '#66c2a5'],\n",
    "             [0.3, '#abdda4'],\n",
    "             [0.4, '#e6f598'],\n",
    "             [0.5, '#ffffbf'],\n",
    "             [0.6, '#fee08b'],\n",
    "             [0.7, '#fdae61'],\n",
    "             [0.8, '#f46d43'],\n",
    "             [0.9, '#d53e4f'],\n",
    "             [1.0, '#9e0142']]"
   ]
  },
  {
   "attachments": {},
   "cell_type": "markdown",
   "metadata": {
    "id": "n26cca8ro8bG"
   },
   "source": [
    "**良性・悪性ラベルで色付け**  \n",
    "0：不明，1：良性，2：悪性"
   ]
  },
  {
   "cell_type": "code",
   "execution_count": 22,
   "metadata": {
    "executionInfo": {
     "elapsed": 258,
     "status": "ok",
     "timestamp": 1667788967841,
     "user": {
      "displayName": "前橋拓歩",
      "userId": "14435859858676691587"
     },
     "user_tz": -540
    },
    "id": "SMT5Ok9eo8bH"
   },
   "outputs": [],
   "source": [
    "_ = mapper.visualize(\n",
    "        simplicial_complex,\n",
    "        title='melanoma_malignant',\n",
    "        path_html='melanoma_malignant.html',\n",
    "        color_values=malignant_label,\n",
    "        color_function_name='malignant_label',\n",
    "        colorscale=color_bar\n",
    "    )"
   ]
  }
 ],
 "metadata": {
  "colab": {
   "collapsed_sections": [],
   "provenance": []
  },
  "kernelspec": {
   "display_name": "Python 3 (ipykernel)",
   "language": "python",
   "name": "python3"
  },
  "language_info": {
   "codemirror_mode": {
    "name": "ipython",
    "version": 3
   },
   "file_extension": ".py",
   "mimetype": "text/x-python",
   "name": "python",
   "nbconvert_exporter": "python",
   "pygments_lexer": "ipython3",
   "version": "3.10.6"
  },
  "vscode": {
   "interpreter": {
    "hash": "6f6ce780818f975550e7d230bbea0f4659b8cb502d04b75c786deefbcfa83bbe"
   }
  },
  "widgets": {
   "application/vnd.jupyter.widget-state+json": {
    "0d0538f7d86f414d8278577365b7d7f7": {
     "model_module": "@jupyter-widgets/base",
     "model_module_version": "1.2.0",
     "model_name": "LayoutModel",
     "state": {
      "_model_module": "@jupyter-widgets/base",
      "_model_module_version": "1.2.0",
      "_model_name": "LayoutModel",
      "_view_count": null,
      "_view_module": "@jupyter-widgets/base",
      "_view_module_version": "1.2.0",
      "_view_name": "LayoutView",
      "align_content": null,
      "align_items": null,
      "align_self": null,
      "border": null,
      "bottom": null,
      "display": null,
      "flex": null,
      "flex_flow": null,
      "grid_area": null,
      "grid_auto_columns": null,
      "grid_auto_flow": null,
      "grid_auto_rows": null,
      "grid_column": null,
      "grid_gap": null,
      "grid_row": null,
      "grid_template_areas": null,
      "grid_template_columns": null,
      "grid_template_rows": null,
      "height": null,
      "justify_content": null,
      "justify_items": null,
      "left": null,
      "margin": null,
      "max_height": null,
      "max_width": null,
      "min_height": null,
      "min_width": null,
      "object_fit": null,
      "object_position": null,
      "order": null,
      "overflow": null,
      "overflow_x": null,
      "overflow_y": null,
      "padding": null,
      "right": null,
      "top": null,
      "visibility": null,
      "width": null
     }
    },
    "178c010c277a40179a87ed6e6d679f2a": {
     "model_module": "@jupyter-widgets/controls",
     "model_module_version": "1.5.0",
     "model_name": "HBoxModel",
     "state": {
      "_dom_classes": [],
      "_model_module": "@jupyter-widgets/controls",
      "_model_module_version": "1.5.0",
      "_model_name": "HBoxModel",
      "_view_count": null,
      "_view_module": "@jupyter-widgets/controls",
      "_view_module_version": "1.5.0",
      "_view_name": "HBoxView",
      "box_style": "",
      "children": [
       "IPY_MODEL_fb979bb6a87b41e5994395f2196920b5",
       "IPY_MODEL_5493d18433b34ea8bcb5552608b533c4"
      ],
      "layout": "IPY_MODEL_b7c2892955be4c0fbaf138248e9985c4"
     }
    },
    "1e707b186fcc4412bfc19414604d511a": {
     "model_module": "@jupyter-widgets/base",
     "model_module_version": "1.2.0",
     "model_name": "LayoutModel",
     "state": {
      "_model_module": "@jupyter-widgets/base",
      "_model_module_version": "1.2.0",
      "_model_name": "LayoutModel",
      "_view_count": null,
      "_view_module": "@jupyter-widgets/base",
      "_view_module_version": "1.2.0",
      "_view_name": "LayoutView",
      "align_content": null,
      "align_items": null,
      "align_self": null,
      "border": null,
      "bottom": null,
      "display": null,
      "flex": null,
      "flex_flow": null,
      "grid_area": null,
      "grid_auto_columns": null,
      "grid_auto_flow": null,
      "grid_auto_rows": null,
      "grid_column": null,
      "grid_gap": null,
      "grid_row": null,
      "grid_template_areas": null,
      "grid_template_columns": null,
      "grid_template_rows": null,
      "height": null,
      "justify_content": null,
      "justify_items": null,
      "left": null,
      "margin": "5px 5px 5px 10px",
      "max_height": null,
      "max_width": null,
      "min_height": null,
      "min_width": null,
      "object_fit": null,
      "object_position": null,
      "order": null,
      "overflow": null,
      "overflow_x": null,
      "overflow_y": null,
      "padding": null,
      "right": null,
      "top": null,
      "visibility": null,
      "width": "800px"
     }
    },
    "1e71b6f0d15046cf8e4a04a3b623e74b": {
     "model_module": "@jupyter-widgets/base",
     "model_module_version": "1.2.0",
     "model_name": "LayoutModel",
     "state": {
      "_model_module": "@jupyter-widgets/base",
      "_model_module_version": "1.2.0",
      "_model_name": "LayoutModel",
      "_view_count": null,
      "_view_module": "@jupyter-widgets/base",
      "_view_module_version": "1.2.0",
      "_view_name": "LayoutView",
      "align_content": null,
      "align_items": null,
      "align_self": null,
      "border": null,
      "bottom": null,
      "display": null,
      "flex": null,
      "flex_flow": null,
      "grid_area": null,
      "grid_auto_columns": null,
      "grid_auto_flow": null,
      "grid_auto_rows": null,
      "grid_column": null,
      "grid_gap": null,
      "grid_row": null,
      "grid_template_areas": null,
      "grid_template_columns": null,
      "grid_template_rows": null,
      "height": null,
      "justify_content": null,
      "justify_items": null,
      "left": null,
      "margin": null,
      "max_height": null,
      "max_width": null,
      "min_height": null,
      "min_width": null,
      "object_fit": null,
      "object_position": null,
      "order": null,
      "overflow": null,
      "overflow_x": null,
      "overflow_y": null,
      "padding": null,
      "right": null,
      "top": null,
      "visibility": null,
      "width": null
     }
    },
    "4244957d17bb4adba89578ea155eacd5": {
     "model_module": "@jupyter-widgets/base",
     "model_module_version": "1.2.0",
     "model_name": "LayoutModel",
     "state": {
      "_model_module": "@jupyter-widgets/base",
      "_model_module_version": "1.2.0",
      "_model_name": "LayoutModel",
      "_view_count": null,
      "_view_module": "@jupyter-widgets/base",
      "_view_module_version": "1.2.0",
      "_view_name": "LayoutView",
      "align_content": null,
      "align_items": null,
      "align_self": null,
      "border": null,
      "bottom": null,
      "display": null,
      "flex": null,
      "flex_flow": null,
      "grid_area": null,
      "grid_auto_columns": null,
      "grid_auto_flow": null,
      "grid_auto_rows": null,
      "grid_column": null,
      "grid_gap": null,
      "grid_row": null,
      "grid_template_areas": null,
      "grid_template_columns": null,
      "grid_template_rows": null,
      "height": null,
      "justify_content": null,
      "justify_items": null,
      "left": null,
      "margin": null,
      "max_height": null,
      "max_width": null,
      "min_height": null,
      "min_width": null,
      "object_fit": null,
      "object_position": null,
      "order": null,
      "overflow": null,
      "overflow_x": null,
      "overflow_y": null,
      "padding": null,
      "right": null,
      "top": null,
      "visibility": null,
      "width": null
     }
    },
    "475bc52c37e446aeb6e8018453f570a0": {
     "model_module": "@jupyter-widgets/controls",
     "model_module_version": "1.5.0",
     "model_name": "TextareaModel",
     "state": {
      "_dom_classes": [],
      "_model_module": "@jupyter-widgets/controls",
      "_model_module_version": "1.5.0",
      "_model_name": "TextareaModel",
      "_view_count": null,
      "_view_module": "@jupyter-widgets/controls",
      "_view_module_version": "1.5.0",
      "_view_name": "TextareaView",
      "continuous_update": true,
      "description": "Members:",
      "description_tooltip": null,
      "disabled": false,
      "layout": "IPY_MODEL_7ac3c157b2594c07915b791f99057af0",
      "placeholder": "​",
      "rows": null,
      "style": "IPY_MODEL_f6ad8ade56604e1c8cc6722c87c81c2c",
      "value": "610, 976, 1055, 1068, 1141, 1276, 1313, 1326, 1399, 1400, 1404, 1422, 1522, 1528, 1533, 1732, 1824, 2121, 2574, 2665, 2690, 3155, 3165, 3171, 3174, 3179, 3181, 3191, 3196, 3200, 3235, 3524, 3526, 3542, 3548, 3551, 3555, 3572, 3575, 3582, 3583, 3586, 3592, 3594, 3597, 3599, 3616, 3630, 3633, 3639, 3642, 3646, 3662, 3677, 3685, 3699, 3717, 3732, 3734, 3740, 3744, 3746, 3799, 3811, 4035, 4216, 4293"
     }
    },
    "5493d18433b34ea8bcb5552608b533c4": {
     "model_module": "jupyterlab-plotly",
     "model_module_version": "^5.5.0",
     "model_name": "FigureModel",
     "state": {
      "_config": {
       "plotlyServerURL": "https://plot.ly"
      },
      "_data": [
       {
        "hoverinfo": "y+text",
        "marker": {
         "color": [
          "rgb(70, 18, 100)",
          "rgb(68, 51, 125)",
          "rgb(58, 80, 138)",
          "rgb(46, 107, 141)",
          "rgb(36, 131, 141)",
          "rgb(33, 155, 136)",
          "rgb(51, 178, 121)",
          "rgb(94, 199, 96)",
          "rgb(155, 215, 59)",
          "rgb(220, 226, 37)"
         ]
        },
        "text": [
         "12.2%",
         "0.0%",
         "0.0%",
         "0.0%",
         "0.0%",
         "12.2%",
         "0.0%",
         "0.0%",
         "0.0%",
         "75.6%"
        ],
        "type": "bar",
        "uid": "07385f2f-df53-4f51-8d33-8dff8edd0247",
        "y": [
         16,
         0,
         0,
         0,
         0,
         16,
         0,
         0,
         0,
         100
        ]
       }
      ],
      "_dom_classes": [],
      "_js2py_layoutDelta": {},
      "_js2py_pointsCallback": {},
      "_js2py_relayout": {},
      "_js2py_restyle": {},
      "_js2py_traceDeltas": {},
      "_js2py_update": {},
      "_last_layout_edit_id": 0,
      "_last_trace_edit_id": 0,
      "_layout": {
       "bargap": 0.01,
       "font": {
        "size": 12
       },
       "height": 300,
       "hovermode": "x",
       "margin": {
        "b": 60,
        "l": 50,
        "r": 25,
        "t": 100
       },
       "plot_bgcolor": "rgb(240,240,240)",
       "title": {
        "text": "Cluster Member Distribution"
       },
       "width": 400,
       "xaxis": {
        "showgrid": false,
        "showline": true,
        "showticklabels": false,
        "zeroline": false
       },
       "yaxis": {
        "gridcolor": "white",
        "showline": false,
        "tickfont": {
         "size": 10
        }
       }
      },
      "_model_module": "jupyterlab-plotly",
      "_model_module_version": "^5.5.0",
      "_model_name": "FigureModel",
      "_py2js_addTraces": {},
      "_py2js_animate": {},
      "_py2js_deleteTraces": {},
      "_py2js_moveTraces": {},
      "_py2js_relayout": null,
      "_py2js_removeLayoutProps": {},
      "_py2js_removeTraceProps": {},
      "_py2js_restyle": {},
      "_py2js_update": {},
      "_view_count": 1,
      "_view_module": "jupyterlab-plotly",
      "_view_module_version": "^5.5.0",
      "_view_name": "FigureView"
     }
    },
    "5612fbb8085f4d36992d76fecfb2dc84": {
     "model_module": "@jupyter-widgets/controls",
     "model_module_version": "1.5.0",
     "model_name": "TextareaModel",
     "state": {
      "_dom_classes": [],
      "_model_module": "@jupyter-widgets/controls",
      "_model_module_version": "1.5.0",
      "_model_name": "TextareaModel",
      "_view_count": null,
      "_view_module": "@jupyter-widgets/controls",
      "_view_module_version": "1.5.0",
      "_view_name": "TextareaView",
      "continuous_update": true,
      "description": "Members:",
      "description_tooltip": null,
      "disabled": false,
      "layout": "IPY_MODEL_1e707b186fcc4412bfc19414604d511a",
      "placeholder": "​",
      "rows": null,
      "style": "IPY_MODEL_df31058e0d3348489fa479b3ea18d97e",
      "value": "610, 648, 976, 1055, 1068, 1141, 1257, 1276, 1313, 1326, 1341, 1399, 1400, 1404, 1422, 1522, 1528, 1533, 1732, 1785, 1824, 2121, 2398, 2574, 2690, 3155, 3165, 3171, 3174, 3179, 3181, 3191, 3196, 3200, 3235, 3368, 3524, 3526, 3534, 3537, 3542, 3543, 3548, 3551, 3555, 3572, 3575, 3582, 3583, 3586, 3592, 3594, 3597, 3599, 3616, 3630, 3633, 3638, 3639, 3642, 3646, 3662, 3677, 3685, 3696, 3699, 3717, 3725, 3732, 3734, 3736, 3740, 3741, 3744, 3746, 3799, 3811, 3922, 4008, 4035, 4216, 4293"
     }
    },
    "566d3c8f5d304d2d9005b3577685b15c": {
     "model_module": "@jupyter-widgets/base",
     "model_module_version": "1.2.0",
     "model_name": "LayoutModel",
     "state": {
      "_model_module": "@jupyter-widgets/base",
      "_model_module_version": "1.2.0",
      "_model_name": "LayoutModel",
      "_view_count": null,
      "_view_module": "@jupyter-widgets/base",
      "_view_module_version": "1.2.0",
      "_view_name": "LayoutView",
      "align_content": null,
      "align_items": null,
      "align_self": null,
      "border": null,
      "bottom": null,
      "display": null,
      "flex": null,
      "flex_flow": null,
      "grid_area": null,
      "grid_auto_columns": null,
      "grid_auto_flow": null,
      "grid_auto_rows": null,
      "grid_column": null,
      "grid_gap": null,
      "grid_row": null,
      "grid_template_areas": null,
      "grid_template_columns": null,
      "grid_template_rows": null,
      "height": null,
      "justify_content": null,
      "justify_items": null,
      "left": null,
      "margin": null,
      "max_height": null,
      "max_width": null,
      "min_height": null,
      "min_width": null,
      "object_fit": null,
      "object_position": null,
      "order": null,
      "overflow": null,
      "overflow_x": null,
      "overflow_y": null,
      "padding": null,
      "right": null,
      "top": null,
      "visibility": null,
      "width": null
     }
    },
    "5fc390aaa05e48e09cfe955664c397d7": {
     "model_module": "jupyterlab-plotly",
     "model_module_version": "^5.5.0",
     "model_name": "FigureModel",
     "state": {
      "_config": {
       "plotlyServerURL": "https://plot.ly"
      },
      "_data": [
       {
        "hoverinfo": "none",
        "line": {
         "color": "rgb(180,180,180)",
         "width": 1.5
        },
        "mode": "lines",
        "type": "scatter",
        "uid": "b4d50707-8d78-49f6-9d0f-8c0583bc9a71",
        "x": [
         2.665401990871128,
         2.522693956532315,
         null,
         -0.403310790758457,
         -0.5501422914699275,
         null,
         2.522693956532315,
         2.155071683752117,
         null,
         -2.76190355831279,
         -3.0204417183247267,
         null,
         2.155071683752117,
         1.646559456850993,
         null,
         -3.0204417183247267,
         -2.9420080014403576,
         null,
         1.646559456850993,
         1.5817758138084987,
         null,
         1.646559456850993,
         1.208626512281181,
         null,
         -2.9420080014403576,
         -3.156389325989988,
         null,
         1.5817758138084987,
         1.4588155401627636,
         null,
         -3.156389325989988,
         -2.997891827185957,
         null,
         1.4588155401627636,
         1.1598792993260358,
         null,
         -2.997891827185957,
         -3.0589444277021256,
         null,
         1.1598792993260358,
         0.7674556990410566,
         null,
         -3.0589444277021256,
         -2.8650844451968505,
         null,
         0.7674556990410566,
         0.3375365749812258,
         null,
         0.3375365749812258,
         -0.10840096803737341,
         null
        ],
        "y": [
         0.6010082911812962,
         0.09165121834323137,
         null,
         3.585791788027335,
         3.0979789931563397,
         null,
         0.09165121834323137,
         -0.2852043556404843,
         null,
         1.3431424031757666,
         0.8949829171705871,
         null,
         -0.2852043556404843,
         -0.5127392982795806,
         null,
         0.8949829171705871,
         0.38520789182723825,
         null,
         -0.5127392982795806,
         -1.060039578106344,
         null,
         -0.5127392982795806,
         -0.14439891114228273,
         null,
         0.38520789182723825,
         -0.08763981946031876,
         null,
         -1.060039578106344,
         -1.568811746921007,
         null,
         -0.08763981946031876,
         -0.5791763145338363,
         null,
         -1.568811746921007,
         -1.9927997036634237,
         null,
         -0.5791763145338363,
         -1.0869533934527387,
         null,
         -1.9927997036634237,
         -2.3286390604435936,
         null,
         -1.0869533934527387,
         -1.5647668144759705,
         null,
         -2.3286390604435936,
         -2.612729075473145,
         null,
         -2.612729075473145,
         -2.8744531529464012,
         null
        ]
       },
       {
        "hoverinfo": "text",
        "marker": {
         "color": [
          0.3120770938183976,
          0.056505022783761384,
          0.3500531772009966,
          0,
          0.016229977906655618,
          0.4024154304602823,
          0.33285004142502067,
          0.01686649204869741,
          0.39060541828946926,
          0.12142868523357338,
          0.4291350953824211,
          0.24829236859062873,
          0.20255109085887874,
          0.12192951417656263,
          0.40608061636023524,
          0.013039371079277183,
          0.33074483246873915,
          0.028003597734675575,
          0.34364799472214547,
          0.31813576576722924,
          0.07717992778749476,
          0.2583425388934917,
          0.04982987416707382
         ],
         "colorbar": {
          "thickness": 20,
          "tickfont": {
           "size": 10
          },
          "ticklen": 4,
          "x": 1.01
         },
         "colorscale": [
          [
           0,
           "rgb(68, 1, 84)"
          ],
          [
           0.1,
           "rgb(72, 35, 116)"
          ],
          [
           0.2,
           "rgb(64, 67, 135)"
          ],
          [
           0.3,
           "rgb(52, 94, 141)"
          ],
          [
           0.4,
           "rgb(41, 120, 142)"
          ],
          [
           0.5,
           "rgb(32, 144, 140)"
          ],
          [
           0.6,
           "rgb(34, 167, 132)"
          ],
          [
           0.7,
           "rgb(68, 190, 112)"
          ],
          [
           0.8,
           "rgb(121, 209, 81)"
          ],
          [
           0.9,
           "rgb(189, 222, 38)"
          ],
          [
           1,
           "rgb(253, 231, 36)"
          ]
         ],
         "line": {
          "color": "rgb(200,200,200)",
          "width": 1
         },
         "opacity": 1,
         "showscale": true,
         "size": [
          15,
          9,
          15,
          6,
          12,
          18,
          6,
          12,
          18,
          9,
          18,
          6,
          9,
          9,
          18,
          15,
          15,
          15,
          15,
          12,
          9,
          9,
          9
         ]
        },
        "mode": "markers",
        "text": [
         "cube4_cluster0",
         "cube4_cluster1",
         "cube5_cluster0",
         "cube5_cluster1",
         "cube6_cluster0",
         "cube6_cluster1",
         "cube6_cluster2",
         "cube7_cluster0",
         "cube7_cluster1",
         "cube8_cluster0",
         "cube8_cluster1",
         "cube8_cluster2",
         "cube9_cluster0",
         "cube9_cluster1",
         "cube9_cluster2",
         "cube10_cluster0",
         "cube10_cluster1",
         "cube11_cluster0",
         "cube11_cluster1",
         "cube12_cluster0",
         "cube12_cluster1",
         "cube13_cluster0",
         "cube13_cluster1"
        ],
        "type": "scatter",
        "uid": "c404a24b-a3cc-4373-a4df-d5940a0f6252",
        "x": [
         2.665401990871128,
         -0.403310790758457,
         2.522693956532315,
         -0.5501422914699275,
         -2.76190355831279,
         2.155071683752117,
         -2.0421701154655576,
         -3.0204417183247267,
         1.646559456850993,
         -2.9420080014403576,
         1.5817758138084987,
         1.208626512281181,
         1.0414928569520543,
         -3.156389325989988,
         1.4588155401627636,
         -2.997891827185957,
         1.1598792993260358,
         -3.0589444277021256,
         0.7674556990410566,
         0.3375365749812258,
         -2.8650844451968505,
         -0.10840096803737341,
         2.1645823790475207
        ],
        "y": [
         0.6010082911812962,
         3.585791788027335,
         0.09165121834323137,
         3.0979789931563397,
         1.3431424031757666,
         -0.2852043556404843,
         3.238901257863042,
         0.8949829171705871,
         -0.5127392982795806,
         0.38520789182723825,
         -1.060039578106344,
         -0.14439891114228273,
         3.3648507900164373,
         -0.08763981946031876,
         -1.568811746921007,
         -0.5791763145338363,
         -1.9927997036634237,
         -1.0869533934527387,
         -2.3286390604435936,
         -2.612729075473145,
         -1.5647668144759705,
         -2.8744531529464012,
         2.910622988409932
        ]
       }
      ],
      "_dom_classes": [],
      "_js2py_layoutDelta": {},
      "_js2py_pointsCallback": {},
      "_js2py_relayout": {},
      "_js2py_restyle": {},
      "_js2py_traceDeltas": {},
      "_js2py_update": {},
      "_last_layout_edit_id": 0,
      "_last_trace_edit_id": 0,
      "_layout": {
       "annotations": [
        {
         "align": "left",
         "font": {
          "size": 12
         },
         "showarrow": false,
         "text": "<b>N_cubes:</b> 15 <b>Perc_overlap:</b> 0.2<br><b>Nodes:</b> 23 <b>Edges:</b> 17 <b>Total samples:</b> 1890 <b>Unique_samples:</b> 1571",
         "x": 0,
         "xanchor": "left",
         "xref": "paper",
         "y": -0.01,
         "yanchor": "top",
         "yref": "paper"
        }
       ],
       "autosize": false,
       "font": {
        "size": 12
       },
       "height": 500,
       "hovermode": "closest",
       "margin": {
        "b": 35,
        "l": 10,
        "r": 60,
        "t": 100
       },
       "plot_bgcolor": "rgba(240, 240, 240, 0.95)",
       "showlegend": false,
       "title": {
        "text": "melanoma_MITF"
       },
       "width": 600,
       "xaxis": {
        "visible": false
       },
       "yaxis": {
        "visible": false
       }
      },
      "_model_module": "jupyterlab-plotly",
      "_model_module_version": "^5.5.0",
      "_model_name": "FigureModel",
      "_py2js_addTraces": {},
      "_py2js_animate": {},
      "_py2js_deleteTraces": {},
      "_py2js_moveTraces": {},
      "_py2js_relayout": null,
      "_py2js_removeLayoutProps": {},
      "_py2js_removeTraceProps": {},
      "_py2js_restyle": {},
      "_py2js_update": {},
      "_view_count": 0,
      "_view_module": "jupyterlab-plotly",
      "_view_module_version": "^5.5.0",
      "_view_name": "FigureView"
     }
    },
    "6a57a39a003245bb8c3f5fc6215d6680": {
     "model_module": "@jupyter-widgets/base",
     "model_module_version": "1.2.0",
     "model_name": "LayoutModel",
     "state": {
      "_model_module": "@jupyter-widgets/base",
      "_model_module_version": "1.2.0",
      "_model_name": "LayoutModel",
      "_view_count": null,
      "_view_module": "@jupyter-widgets/base",
      "_view_module_version": "1.2.0",
      "_view_name": "LayoutView",
      "align_content": null,
      "align_items": null,
      "align_self": null,
      "border": null,
      "bottom": null,
      "display": null,
      "flex": null,
      "flex_flow": null,
      "grid_area": null,
      "grid_auto_columns": null,
      "grid_auto_flow": null,
      "grid_auto_rows": null,
      "grid_column": null,
      "grid_gap": null,
      "grid_row": null,
      "grid_template_areas": null,
      "grid_template_columns": null,
      "grid_template_rows": null,
      "height": null,
      "justify_content": null,
      "justify_items": null,
      "left": null,
      "margin": "10px 10px 10px 10px",
      "max_height": null,
      "max_width": null,
      "min_height": null,
      "min_width": null,
      "object_fit": null,
      "object_position": null,
      "order": null,
      "overflow": null,
      "overflow_x": null,
      "overflow_y": null,
      "padding": null,
      "right": null,
      "top": null,
      "visibility": null,
      "width": "200px"
     }
    },
    "7ac3c157b2594c07915b791f99057af0": {
     "model_module": "@jupyter-widgets/base",
     "model_module_version": "1.2.0",
     "model_name": "LayoutModel",
     "state": {
      "_model_module": "@jupyter-widgets/base",
      "_model_module_version": "1.2.0",
      "_model_name": "LayoutModel",
      "_view_count": null,
      "_view_module": "@jupyter-widgets/base",
      "_view_module_version": "1.2.0",
      "_view_name": "LayoutView",
      "align_content": null,
      "align_items": null,
      "align_self": null,
      "border": null,
      "bottom": null,
      "display": null,
      "flex": null,
      "flex_flow": null,
      "grid_area": null,
      "grid_auto_columns": null,
      "grid_auto_flow": null,
      "grid_auto_rows": null,
      "grid_column": null,
      "grid_gap": null,
      "grid_row": null,
      "grid_template_areas": null,
      "grid_template_columns": null,
      "grid_template_rows": null,
      "height": null,
      "justify_content": null,
      "justify_items": null,
      "left": null,
      "margin": "5px 5px 5px 10px",
      "max_height": null,
      "max_width": null,
      "min_height": null,
      "min_width": null,
      "object_fit": null,
      "object_position": null,
      "order": null,
      "overflow": null,
      "overflow_x": null,
      "overflow_y": null,
      "padding": null,
      "right": null,
      "top": null,
      "visibility": null,
      "width": "800px"
     }
    },
    "811598a7f5fb47809d8905825b37626c": {
     "model_module": "@jupyter-widgets/controls",
     "model_module_version": "1.5.0",
     "model_name": "TextModel",
     "state": {
      "_dom_classes": [],
      "_model_module": "@jupyter-widgets/controls",
      "_model_module_version": "1.5.0",
      "_model_name": "TextModel",
      "_view_count": null,
      "_view_module": "@jupyter-widgets/controls",
      "_view_module_version": "1.5.0",
      "_view_name": "TextView",
      "continuous_update": true,
      "description": "Cluster size:",
      "description_tooltip": null,
      "disabled": false,
      "layout": "IPY_MODEL_f925289d932a4e16a9a7386bbfdb74fd",
      "placeholder": "​",
      "style": "IPY_MODEL_8e7ec1497c8a4099bfd91b585194ed72",
      "value": "67"
     }
    },
    "824f6055d1ae48db91ed4d2273729ea2": {
     "model_module": "@jupyter-widgets/controls",
     "model_module_version": "1.5.0",
     "model_name": "DescriptionStyleModel",
     "state": {
      "_model_module": "@jupyter-widgets/controls",
      "_model_module_version": "1.5.0",
      "_model_name": "DescriptionStyleModel",
      "_view_count": null,
      "_view_module": "@jupyter-widgets/base",
      "_view_module_version": "1.2.0",
      "_view_name": "StyleView",
      "description_width": ""
     }
    },
    "8e7ec1497c8a4099bfd91b585194ed72": {
     "model_module": "@jupyter-widgets/controls",
     "model_module_version": "1.5.0",
     "model_name": "DescriptionStyleModel",
     "state": {
      "_model_module": "@jupyter-widgets/controls",
      "_model_module_version": "1.5.0",
      "_model_name": "DescriptionStyleModel",
      "_view_count": null,
      "_view_module": "@jupyter-widgets/base",
      "_view_module_version": "1.2.0",
      "_view_name": "StyleView",
      "description_width": ""
     }
    },
    "99b1c19cbd044aa7b19f099ce4118a89": {
     "model_module": "@jupyter-widgets/controls",
     "model_module_version": "1.5.0",
     "model_name": "HBoxModel",
     "state": {
      "_dom_classes": [],
      "_model_module": "@jupyter-widgets/controls",
      "_model_module_version": "1.5.0",
      "_model_name": "HBoxModel",
      "_view_count": null,
      "_view_module": "@jupyter-widgets/controls",
      "_view_module_version": "1.5.0",
      "_view_name": "HBoxView",
      "box_style": "",
      "children": [
       "IPY_MODEL_5fc390aaa05e48e09cfe955664c397d7",
       "IPY_MODEL_c4ae9379ba2d4eedac5a5117b485fa25"
      ],
      "layout": "IPY_MODEL_1e71b6f0d15046cf8e4a04a3b623e74b"
     }
    },
    "b7c2892955be4c0fbaf138248e9985c4": {
     "model_module": "@jupyter-widgets/base",
     "model_module_version": "1.2.0",
     "model_name": "LayoutModel",
     "state": {
      "_model_module": "@jupyter-widgets/base",
      "_model_module_version": "1.2.0",
      "_model_name": "LayoutModel",
      "_view_count": null,
      "_view_module": "@jupyter-widgets/base",
      "_view_module_version": "1.2.0",
      "_view_name": "LayoutView",
      "align_content": null,
      "align_items": null,
      "align_self": null,
      "border": null,
      "bottom": null,
      "display": null,
      "flex": null,
      "flex_flow": null,
      "grid_area": null,
      "grid_auto_columns": null,
      "grid_auto_flow": null,
      "grid_auto_rows": null,
      "grid_column": null,
      "grid_gap": null,
      "grid_row": null,
      "grid_template_areas": null,
      "grid_template_columns": null,
      "grid_template_rows": null,
      "height": null,
      "justify_content": null,
      "justify_items": null,
      "left": null,
      "margin": null,
      "max_height": null,
      "max_width": null,
      "min_height": null,
      "min_width": null,
      "object_fit": null,
      "object_position": null,
      "order": null,
      "overflow": null,
      "overflow_x": null,
      "overflow_y": null,
      "padding": null,
      "right": null,
      "top": null,
      "visibility": null,
      "width": null
     }
    },
    "ba9a21d68f304d948666d166e332afa1": {
     "model_module": "@jupyter-widgets/base",
     "model_module_version": "1.2.0",
     "model_name": "LayoutModel",
     "state": {
      "_model_module": "@jupyter-widgets/base",
      "_model_module_version": "1.2.0",
      "_model_name": "LayoutModel",
      "_view_count": null,
      "_view_module": "@jupyter-widgets/base",
      "_view_module_version": "1.2.0",
      "_view_name": "LayoutView",
      "align_content": null,
      "align_items": null,
      "align_self": null,
      "border": null,
      "bottom": null,
      "display": null,
      "flex": null,
      "flex_flow": null,
      "grid_area": null,
      "grid_auto_columns": null,
      "grid_auto_flow": null,
      "grid_auto_rows": null,
      "grid_column": null,
      "grid_gap": null,
      "grid_row": null,
      "grid_template_areas": null,
      "grid_template_columns": null,
      "grid_template_rows": null,
      "height": null,
      "justify_content": null,
      "justify_items": null,
      "left": null,
      "margin": null,
      "max_height": null,
      "max_width": null,
      "min_height": null,
      "min_width": null,
      "object_fit": null,
      "object_position": null,
      "order": null,
      "overflow": null,
      "overflow_x": null,
      "overflow_y": null,
      "padding": null,
      "right": null,
      "top": null,
      "visibility": null,
      "width": null
     }
    },
    "c4ae9379ba2d4eedac5a5117b485fa25": {
     "model_module": "jupyterlab-plotly",
     "model_module_version": "^5.5.0",
     "model_name": "FigureModel",
     "state": {
      "_config": {
       "plotlyServerURL": "https://plot.ly"
      },
      "_data": [
       {
        "hoverinfo": "y+text",
        "marker": {
         "color": [
          "rgb(70, 18, 100)",
          "rgb(68, 51, 125)",
          "rgb(58, 80, 138)",
          "rgb(46, 107, 141)",
          "rgb(36, 131, 141)",
          "rgb(33, 155, 136)",
          "rgb(51, 178, 121)",
          "rgb(94, 199, 96)",
          "rgb(155, 215, 59)",
          "rgb(220, 226, 37)"
         ]
        },
        "text": [
         "28.4%",
         "4.5%",
         "4.5%",
         "19.4%",
         "20.9%",
         "13.4%",
         "9.0%",
         "0.0%",
         "0.0%",
         "0.0%"
        ],
        "type": "bar",
        "uid": "f2f94de9-5879-4b4a-8a16-76f81d4c1534",
        "y": [
         100,
         16,
         16,
         68,
         74,
         47,
         32,
         0,
         0,
         0
        ]
       }
      ],
      "_dom_classes": [],
      "_js2py_layoutDelta": {},
      "_js2py_pointsCallback": {},
      "_js2py_relayout": {},
      "_js2py_restyle": {},
      "_js2py_traceDeltas": {},
      "_js2py_update": {},
      "_last_layout_edit_id": 0,
      "_last_trace_edit_id": 0,
      "_layout": {
       "bargap": 0.01,
       "font": {
        "size": 12
       },
       "height": 300,
       "hovermode": "x",
       "margin": {
        "b": 60,
        "l": 50,
        "r": 25,
        "t": 100
       },
       "plot_bgcolor": "rgb(240,240,240)",
       "title": {
        "text": "Cluster Member Distribution"
       },
       "width": 400,
       "xaxis": {
        "showgrid": false,
        "showline": true,
        "showticklabels": false,
        "zeroline": false
       },
       "yaxis": {
        "gridcolor": "white",
        "showline": false,
        "tickfont": {
         "size": 10
        }
       }
      },
      "_model_module": "jupyterlab-plotly",
      "_model_module_version": "^5.5.0",
      "_model_name": "FigureModel",
      "_py2js_addTraces": {},
      "_py2js_animate": {},
      "_py2js_deleteTraces": {},
      "_py2js_moveTraces": {},
      "_py2js_relayout": null,
      "_py2js_removeLayoutProps": {},
      "_py2js_removeTraceProps": {},
      "_py2js_restyle": {},
      "_py2js_update": {},
      "_view_count": 0,
      "_view_module": "jupyterlab-plotly",
      "_view_module_version": "^5.5.0",
      "_view_name": "FigureView"
     }
    },
    "d2731ddc4edb4f1d9d7ebfeda3565bb7": {
     "model_module": "@jupyter-widgets/controls",
     "model_module_version": "1.5.0",
     "model_name": "VBoxModel",
     "state": {
      "_dom_classes": [],
      "_model_module": "@jupyter-widgets/controls",
      "_model_module_version": "1.5.0",
      "_model_name": "VBoxModel",
      "_view_count": null,
      "_view_module": "@jupyter-widgets/controls",
      "_view_module_version": "1.5.0",
      "_view_name": "VBoxView",
      "box_style": "",
      "children": [
       "IPY_MODEL_178c010c277a40179a87ed6e6d679f2a",
       "IPY_MODEL_d5c0ded9a32c483faa29747963154222",
       "IPY_MODEL_5612fbb8085f4d36992d76fecfb2dc84"
      ],
      "layout": "IPY_MODEL_0d0538f7d86f414d8278577365b7d7f7"
     }
    },
    "d5c0ded9a32c483faa29747963154222": {
     "model_module": "@jupyter-widgets/controls",
     "model_module_version": "1.5.0",
     "model_name": "TextModel",
     "state": {
      "_dom_classes": [],
      "_model_module": "@jupyter-widgets/controls",
      "_model_module_version": "1.5.0",
      "_model_name": "TextModel",
      "_view_count": null,
      "_view_module": "@jupyter-widgets/controls",
      "_view_module_version": "1.5.0",
      "_view_name": "TextView",
      "continuous_update": true,
      "description": "Cluster size:",
      "description_tooltip": null,
      "disabled": false,
      "layout": "IPY_MODEL_6a57a39a003245bb8c3f5fc6215d6680",
      "placeholder": "​",
      "style": "IPY_MODEL_824f6055d1ae48db91ed4d2273729ea2",
      "value": "82"
     }
    },
    "df31058e0d3348489fa479b3ea18d97e": {
     "model_module": "@jupyter-widgets/controls",
     "model_module_version": "1.5.0",
     "model_name": "DescriptionStyleModel",
     "state": {
      "_model_module": "@jupyter-widgets/controls",
      "_model_module_version": "1.5.0",
      "_model_name": "DescriptionStyleModel",
      "_view_count": null,
      "_view_module": "@jupyter-widgets/base",
      "_view_module_version": "1.2.0",
      "_view_name": "StyleView",
      "description_width": ""
     }
    },
    "e326a7f22e1d4953b54962dbdf5c74b1": {
     "model_module": "@jupyter-widgets/controls",
     "model_module_version": "1.5.0",
     "model_name": "VBoxModel",
     "state": {
      "_dom_classes": [],
      "_model_module": "@jupyter-widgets/controls",
      "_model_module_version": "1.5.0",
      "_model_name": "VBoxModel",
      "_view_count": null,
      "_view_module": "@jupyter-widgets/controls",
      "_view_module_version": "1.5.0",
      "_view_name": "VBoxView",
      "box_style": "",
      "children": [
       "IPY_MODEL_99b1c19cbd044aa7b19f099ce4118a89",
       "IPY_MODEL_811598a7f5fb47809d8905825b37626c",
       "IPY_MODEL_475bc52c37e446aeb6e8018453f570a0"
      ],
      "layout": "IPY_MODEL_ba9a21d68f304d948666d166e332afa1"
     }
    },
    "f6ad8ade56604e1c8cc6722c87c81c2c": {
     "model_module": "@jupyter-widgets/controls",
     "model_module_version": "1.5.0",
     "model_name": "DescriptionStyleModel",
     "state": {
      "_model_module": "@jupyter-widgets/controls",
      "_model_module_version": "1.5.0",
      "_model_name": "DescriptionStyleModel",
      "_view_count": null,
      "_view_module": "@jupyter-widgets/base",
      "_view_module_version": "1.2.0",
      "_view_name": "StyleView",
      "description_width": ""
     }
    },
    "f925289d932a4e16a9a7386bbfdb74fd": {
     "model_module": "@jupyter-widgets/base",
     "model_module_version": "1.2.0",
     "model_name": "LayoutModel",
     "state": {
      "_model_module": "@jupyter-widgets/base",
      "_model_module_version": "1.2.0",
      "_model_name": "LayoutModel",
      "_view_count": null,
      "_view_module": "@jupyter-widgets/base",
      "_view_module_version": "1.2.0",
      "_view_name": "LayoutView",
      "align_content": null,
      "align_items": null,
      "align_self": null,
      "border": null,
      "bottom": null,
      "display": null,
      "flex": null,
      "flex_flow": null,
      "grid_area": null,
      "grid_auto_columns": null,
      "grid_auto_flow": null,
      "grid_auto_rows": null,
      "grid_column": null,
      "grid_gap": null,
      "grid_row": null,
      "grid_template_areas": null,
      "grid_template_columns": null,
      "grid_template_rows": null,
      "height": null,
      "justify_content": null,
      "justify_items": null,
      "left": null,
      "margin": "10px 10px 10px 10px",
      "max_height": null,
      "max_width": null,
      "min_height": null,
      "min_width": null,
      "object_fit": null,
      "object_position": null,
      "order": null,
      "overflow": null,
      "overflow_x": null,
      "overflow_y": null,
      "padding": null,
      "right": null,
      "top": null,
      "visibility": null,
      "width": "200px"
     }
    },
    "fb979bb6a87b41e5994395f2196920b5": {
     "model_module": "jupyterlab-plotly",
     "model_module_version": "^5.5.0",
     "model_name": "FigureModel",
     "state": {
      "_config": {
       "plotlyServerURL": "https://plot.ly"
      },
      "_data": [
       {
        "hoverinfo": "none",
        "line": {
         "color": "rgb(180,180,180)",
         "width": 1.5
        },
        "mode": "lines",
        "type": "scatter",
        "uid": "29c02055-db4f-4076-b7aa-1076fc0dfead",
        "x": [
         -0.5279383741127194,
         -0.2713623781534681,
         null,
         0.6777783221506841,
         0.601213887532484,
         null,
         -0.2713623781534681,
         -0.018071789550026755,
         null,
         0.601213887532484,
         0.5074221142555477,
         null,
         0.5074221142555477,
         0.39970239109595673,
         null,
         -0.018071789550026755,
         0.39970239109595673,
         null,
         -0.018071789550026755,
         -0.29449335243238434,
         null,
         0.39970239109595673,
         0.7617524558078462,
         null,
         -0.29449335243238434,
         -0.43071939588614155,
         null,
         -0.29449335243238434,
         -0.6731332314847678,
         null,
         0.7617524558078462,
         1.1302673792748716,
         null,
         -0.43071939588614155,
         -0.6724696851469327,
         null,
         1.1302673792748716,
         1.4976257740808665,
         null,
         -0.6724696851469327,
         -0.9457525114342448,
         null,
         1.4976257740808665,
         1.8635114859916557,
         null,
         -0.9457525114342448,
         -1.231382416041285,
         null,
         1.8635114859916557,
         2.2278762144356525,
         null,
         -1.231382416041285,
         -1.5224634806464998,
         null,
         -1.5224634806464998,
         -1.8155531017084146,
         null
        ],
        "y": [
         1.32374287203745,
         1.014898018211163,
         null,
         1.9541418457329238,
         1.5818666897574614,
         null,
         1.014898018211163,
         0.6718188481215304,
         null,
         1.5818666897574614,
         1.1960899533994718,
         null,
         1.1960899533994718,
         0.7864675757849305,
         null,
         0.6718188481215304,
         0.7864675757849305,
         null,
         0.6718188481215304,
         0.3500849670474769,
         null,
         0.7864675757849305,
         0.5843980826661036,
         null,
         0.3500849670474769,
         -0.032288608253400734,
         null,
         0.3500849670474769,
         0.5008794339488388,
         null,
         0.5843980826661036,
         0.4548452888549156,
         null,
         -0.032288608253400734,
         -0.33557088670796015,
         null,
         0.4548452888549156,
         0.3646996752395022,
         null,
         -0.33557088670796015,
         -0.5955760992812777,
         null,
         0.3646996752395022,
         0.3032892927961591,
         null,
         -0.5955760992812777,
         -0.832824169097808,
         null,
         0.3032892927961591,
         0.2654376294435718,
         null,
         -0.832824169097808,
         -1.0574258176826132,
         null,
         -1.0574258176826132,
         -1.2750563171213103,
         null
        ]
       },
       {
        "hoverinfo": "text",
        "marker": {
         "color": [
          0.8170731707317073,
          0.45,
          0.926056338028169,
          0.42857142857142855,
          0.4861111111111111,
          0.8709090909090909,
          0.48333333333333334,
          0.9192073170731707,
          0.5,
          0.9680555555555556,
          0.5,
          0.3333333333333333,
          0.5,
          0.9550173010380623,
          0.503125,
          0.867231638418079,
          0.5,
          0.8764044943820225,
          0.8421052631578947,
          0.5,
          0.5,
          0.84375
         ],
         "colorbar": {
          "thickness": 20,
          "tickfont": {
           "size": 10
          },
          "ticklen": 4,
          "x": 1.01
         },
         "colorscale": [
          [
           0,
           "rgb(68, 1, 84)"
          ],
          [
           0.1,
           "rgb(72, 35, 116)"
          ],
          [
           0.2,
           "rgb(64, 67, 135)"
          ],
          [
           0.3,
           "rgb(52, 94, 141)"
          ],
          [
           0.4,
           "rgb(41, 120, 142)"
          ],
          [
           0.5,
           "rgb(32, 144, 140)"
          ],
          [
           0.6,
           "rgb(34, 167, 132)"
          ],
          [
           0.7,
           "rgb(68, 190, 112)"
          ],
          [
           0.8,
           "rgb(121, 209, 81)"
          ],
          [
           0.9,
           "rgb(189, 222, 38)"
          ],
          [
           1,
           "rgb(253, 231, 36)"
          ]
         ],
         "line": {
          "color": "rgb(200,200,200)",
          "width": 1
         },
         "opacity": 1,
         "showscale": true,
         "size": [
          15,
          9,
          15,
          9,
          12,
          18,
          12,
          18,
          9,
          18,
          6,
          9,
          9,
          18,
          18,
          18,
          15,
          15,
          12,
          12,
          12,
          9
         ]
        },
        "mode": "markers",
        "text": [
         "cube4_cluster0",
         "cube4_cluster1",
         "cube5_cluster0",
         "cube5_cluster1",
         "cube6_cluster0",
         "cube6_cluster1",
         "cube7_cluster0",
         "cube7_cluster1",
         "cube8_cluster0",
         "cube8_cluster1",
         "cube8_cluster2",
         "cube9_cluster0",
         "cube9_cluster1",
         "cube9_cluster2",
         "cube10_cluster0",
         "cube10_cluster1",
         "cube11_cluster0",
         "cube11_cluster1",
         "cube12_cluster0",
         "cube12_cluster1",
         "cube13_cluster0",
         "cube13_cluster1"
        ],
        "type": "scatter",
        "uid": "f569b87a-2741-4069-94cd-0cca5743e4f5",
        "x": [
         -0.5279383741127194,
         0.6777783221506841,
         -0.2713623781534681,
         0.601213887532484,
         0.5074221142555477,
         -0.018071789550026755,
         0.39970239109595673,
         -0.29449335243238434,
         0.7617524558078462,
         -0.43071939588614155,
         -0.6731332314847678,
         -3.818175152565879,
         1.1302673792748716,
         -0.6724696851469327,
         1.4976257740808665,
         -0.9457525114342448,
         1.8635114859916557,
         -1.231382416041285,
         -1.5224634806464998,
         2.2278762144356525,
         1.1225301491125241,
         -1.8155531017084146
        ],
        "y": [
         1.32374287203745,
         1.9541418457329238,
         1.014898018211163,
         1.5818666897574614,
         1.1960899533994718,
         0.6718188481215304,
         0.7864675757849305,
         0.3500849670474769,
         0.5843980826661036,
         -0.032288608253400734,
         0.5008794339488388,
         2.397497739340371,
         0.4548452888549156,
         -0.33557088670796015,
         0.3646996752395022,
         -0.5955760992812777,
         0.3032892927961591,
         -0.832824169097808,
         -1.0574258176826132,
         0.2654376294435718,
         -3.8505145454320653,
         -1.2750563171213103
        ]
       }
      ],
      "_dom_classes": [],
      "_js2py_layoutDelta": {},
      "_js2py_pointsCallback": {},
      "_js2py_relayout": {},
      "_js2py_restyle": {},
      "_js2py_traceDeltas": {},
      "_js2py_update": {},
      "_last_layout_edit_id": 0,
      "_last_trace_edit_id": 0,
      "_layout": {
       "annotations": [
        {
         "align": "left",
         "font": {
          "size": 12
         },
         "showarrow": false,
         "text": "<b>N_cubes:</b> 15 <b>Perc_overlap:</b> 0.3<br><b>Nodes:</b> 22 <b>Edges:</b> 19 <b>Total samples:</b> 2203 <b>Unique_samples:</b> 1663",
         "x": 0,
         "xanchor": "left",
         "xref": "paper",
         "y": -0.01,
         "yanchor": "top",
         "yref": "paper"
        }
       ],
       "autosize": false,
       "font": {
        "size": 12
       },
       "height": 500,
       "hovermode": "closest",
       "margin": {
        "b": 35,
        "l": 10,
        "r": 60,
        "t": 100
       },
       "plot_bgcolor": "rgba(240, 240, 240, 0.95)",
       "showlegend": false,
       "title": {
        "text": "melanoma_malignant"
       },
       "width": 600,
       "xaxis": {
        "visible": false
       },
       "yaxis": {
        "visible": false
       }
      },
      "_model_module": "jupyterlab-plotly",
      "_model_module_version": "^5.5.0",
      "_model_name": "FigureModel",
      "_py2js_addTraces": {},
      "_py2js_animate": {},
      "_py2js_deleteTraces": {},
      "_py2js_moveTraces": {},
      "_py2js_relayout": null,
      "_py2js_removeLayoutProps": {},
      "_py2js_removeTraceProps": {},
      "_py2js_restyle": {},
      "_py2js_update": {},
      "_view_count": 1,
      "_view_module": "jupyterlab-plotly",
      "_view_module_version": "^5.5.0",
      "_view_name": "FigureView"
     }
    }
   }
  }
 },
 "nbformat": 4,
 "nbformat_minor": 1
}
