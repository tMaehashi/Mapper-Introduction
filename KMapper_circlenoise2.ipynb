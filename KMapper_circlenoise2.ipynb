{
 "cells": [
  {
   "cell_type": "markdown",
   "metadata": {},
   "source": [
    "## KeplerMapper-例3：同心円（ノイズあり②）"
   ]
  },
  {
   "cell_type": "markdown",
   "metadata": {},
   "source": [
    "kmapper.KeplerMapperモジュールの解説：\n",
    "https://kepler-mapper.scikit-tda.org/en/latest/reference/stubs/kmapper.KeplerMapper.html"
   ]
  },
  {
   "cell_type": "markdown",
   "metadata": {},
   "source": [
    "パッケージのインストール"
   ]
  },
  {
   "cell_type": "code",
   "execution_count": 1,
   "metadata": {},
   "outputs": [],
   "source": [
    "import kmapper as km \n",
    "from kmapper.plotlyviz import plotlyviz\n",
    "import sklearn"
   ]
  },
  {
   "cell_type": "markdown",
   "metadata": {},
   "source": [
    "KeplerMapperを用意"
   ]
  },
  {
   "cell_type": "code",
   "execution_count": 2,
   "metadata": {},
   "outputs": [],
   "source": [
    "mapper = km.KeplerMapper(verbose=0) # verboseの引数は0（ログを取らない）か1（一部ログを取る）か2（完全にログを取る）．"
   ]
  },
  {
   "cell_type": "markdown",
   "metadata": {},
   "source": [
    "データセットを用意"
   ]
  },
  {
   "cell_type": "markdown",
   "metadata": {},
   "source": [
    "円周上に等間隔で分布するデータセット（データ点の数：5000，外側の円の半径：1，内側の円の半径：0.4，ガウシアンノイズ：標準偏差0.1）"
   ]
  },
  {
   "cell_type": "code",
   "execution_count": 3,
   "metadata": {},
   "outputs": [
    {
     "data": {
      "text/plain": [
       "array([[ 0.36780814,  0.20984398],\n",
       "       [ 0.25914965, -0.16864038],\n",
       "       [-0.33959456, -0.24145392],\n",
       "       ...,\n",
       "       [-0.49862473,  0.4924471 ],\n",
       "       [-0.47811915, -0.11502908],\n",
       "       [ 0.79721143,  0.51673327]])"
      ]
     },
     "execution_count": 3,
     "metadata": {},
     "output_type": "execute_result"
    }
   ],
   "source": [
    "from sklearn.datasets import make_circles\n",
    "\n",
    "data, labels = make_circles(n_samples=5000, noise=0.1, factor=0.4, random_state=1)\n",
    "data\n",
    "# dataにはデータ点の座標の配列，labelsには各データ点に対応する正解ラベルの配列を代入．\n",
    "# n_samples：データ点の数，noise：ガウシアンノイズの標準偏差（平均は0），factor：内側の円の半径．"
   ]
  },
  {
   "cell_type": "code",
   "execution_count": 4,
   "metadata": {},
   "outputs": [
    {
     "data": {
      "image/png": "[encoded data removed]",
      "text/plain": [
       "<Figure size 432x288 with 1 Axes>"
      ]
     },
     "metadata": {
      "needs_background": "light"
     },
     "output_type": "display_data"
    }
   ],
   "source": [
    "# データセットの分布．\n",
    "import numpy as np\n",
    "import matplotlib.pyplot as plt\n",
    " \n",
    "X0 = data[labels==0]\n",
    "X1 = data[labels==1]\n",
    " \n",
    "fig, ax = plt.subplots()\n",
    "ax.scatter(X0[:, 0], X0[:, 1])\n",
    "ax.scatter(X1[:, 0], X1[:, 1])\n",
    "ax.axis('equal')\n",
    " \n",
    "plt.show()"
   ]
  },
  {
   "cell_type": "markdown",
   "metadata": {},
   "source": [
    "フィルター関数を考え，レンズ（フィルター関数によるデータ点の像の配列）を計算"
   ]
  },
  {
   "cell_type": "markdown",
   "metadata": {},
   "source": [
    "フィルター関数：1つの軸（x軸）への写像：f:X（データセット）⊂R^2→R"
   ]
  },
  {
   "cell_type": "markdown",
   "metadata": {},
   "source": [
    "レンズ：データ点のx座標"
   ]
  },
  {
   "cell_type": "markdown",
   "metadata": {},
   "source": [
    "スケーリング：なし"
   ]
  },
  {
   "cell_type": "code",
   "execution_count": 5,
   "metadata": {},
   "outputs": [
    {
     "data": {
      "text/plain": [
       "array([[ 0.36780814],\n",
       "       [ 0.25914965],\n",
       "       [-0.33959456],\n",
       "       ...,\n",
       "       [-0.49862473],\n",
       "       [-0.47811915],\n",
       "       [ 0.79721143]])"
      ]
     },
     "execution_count": 5,
     "metadata": {},
     "output_type": "execute_result"
    }
   ],
   "source": [
    "lens = mapper.fit_transform(data, projection=[0], scaler=None) \n",
    "# projection：射影（デフォルト：sum），scaler：スケーリング（デフォルト：最小最大正規化）．\n",
    "lens"
   ]
  },
  {
   "cell_type": "markdown",
   "metadata": {},
   "source": [
    "被覆やクラスタリング手法を考え，Mapperグラフをつくる"
   ]
  },
  {
   "cell_type": "markdown",
   "metadata": {},
   "source": [
    "n_cubes：20，percent overlap：10%"
   ]
  },
  {
   "cell_type": "markdown",
   "metadata": {},
   "source": [
    "クラスタリング：DBSCAN（隣接点とみなす2点間の最大距離：0.1，ボーダー点の最小個数：10）"
   ]
  },
  {
   "cell_type": "code",
   "execution_count": 6,
   "metadata": {},
   "outputs": [],
   "source": [
    "simplicial_complex = mapper.map(lens, X=data,\n",
    "                                cover=km.Cover(n_cubes=20, perc_overlap=0.1),\n",
    "                                clusterer=sklearn.cluster.DBSCAN(eps=0.1, min_samples=10))\n",
    "# n_cubes：各軸の被覆の数\n",
    "# perc_overlap：percent overlap，各被覆の長さに対する，隣の被覆と重なっている部分の長さの割合\n",
    "# clusterer：クラスタリング手法"
   ]
  },
  {
   "cell_type": "markdown",
   "metadata": {},
   "source": [
    "Mapperグラフを出力"
   ]
  },
  {
   "cell_type": "markdown",
   "metadata": {},
   "source": [
    "色：レンズの最小値との距離"
   ]
  },
  {
   "cell_type": "code",
   "execution_count": 7,
   "metadata": {},
   "outputs": [
    {
     "data": {
      "application/vnd.jupyter.widget-view+json": {
       "model_id": "aa865b932bf94729b65afbe7a4fb3b33",
       "version_major": 2,
       "version_minor": 0
      },
      "text/plain": [
       "VBox(children=(HBox(children=(FigureWidget({\n",
       "    'data': [{'hoverinfo': 'none',\n",
       "              'line': {'color'…"
      ]
     },
     "metadata": {},
     "output_type": "display_data"
    }
   ],
   "source": [
    "plotlyviz(simplicial_complex, title=\"Circle_noise2_v1\", color_values=lens, dashboard=True) \n",
    "# cube番号：各クラスタが属する被覆の番号．被覆に含まれるデータ点が0個の場合は，設定したcube数の番号が全て含まれないこともある．\n",
    "# cluster size：各クラスタに属するデータ点の数（members：データ点の番号）\n",
    "# total smaples：各被覆に属するデータ点の数の総和（被覆が重なっていると重複カウントされる）\n",
    "# （続き）percent overlapを大きくすると元のデータ点の数より多くなるが，被覆しきれていないと元のデータ点の数より少なくなる．\n",
    "# unique samples：元のデータ点の数より少ない場合は外れ値を除去して数えている．"
   ]
  },
  {
   "cell_type": "code",
   "execution_count": 8,
   "metadata": {},
   "outputs": [],
   "source": [
    "_ = mapper.visualize(\n",
    "        simplicial_complex,\n",
    "        title='Circle_noise2_v1',\n",
    "        path_html='Circle_noise2_v1.html',\n",
    "        color_values=lens,\n",
    "        color_function_name=\"lens\",\n",
    "    )"
   ]
  }
 ],
 "metadata": {
  "interpreter": {
   "hash": "bb5cf0245f7a3b589284654807c6fd6464e83f9c5586a6c4e45760b691058aff"
  },
  "kernelspec": {
   "display_name": "Python 3.9.12 ('base')",
   "language": "python",
   "name": "python3"
  },
  "language_info": {
   "codemirror_mode": {
    "name": "ipython",
    "version": 3
   },
   "file_extension": ".py",
   "mimetype": "text/x-python",
   "name": "python",
   "nbconvert_exporter": "python",
   "pygments_lexer": "ipython3",
   "version": "3.9.12"
  }
 },
 "nbformat": 4,
 "nbformat_minor": 2
}
