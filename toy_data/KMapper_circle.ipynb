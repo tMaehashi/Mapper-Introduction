{
 "cells": [
  {
   "cell_type": "markdown",
   "metadata": {},
   "source": [
    "# Mapper実装-例1：同心円（ノイズなし）"
   ]
  },
  {
   "cell_type": "markdown",
   "metadata": {},
   "source": [
    "kmapper.KeplerMapperモジュールの解説：\n",
    "https://kepler-mapper.scikit-tda.org/en/latest/reference/stubs/kmapper.KeplerMapper.html"
   ]
  },
  {
   "cell_type": "markdown",
   "metadata": {},
   "source": [
    "パッケージのインストール"
   ]
  },
  {
   "cell_type": "code",
   "execution_count": 40,
   "metadata": {},
   "outputs": [],
   "source": [
    "import kmapper as km \n",
    "from kmapper.plotlyviz import plotlyviz\n",
    "import sklearn"
   ]
  },
  {
   "cell_type": "markdown",
   "metadata": {},
   "source": [
    "KeplerMapperを用意"
   ]
  },
  {
   "cell_type": "code",
   "execution_count": 41,
   "metadata": {},
   "outputs": [],
   "source": [
    "mapper = km.KeplerMapper(verbose=0) # verboseの引数は0（ログを取らない）か1（一部ログを取る）か2（完全にログを取る）．"
   ]
  },
  {
   "cell_type": "markdown",
   "metadata": {},
   "source": [
    "データセットを用意"
   ]
  },
  {
   "cell_type": "markdown",
   "metadata": {},
   "source": [
    "円周上に等間隔で分布するデータセット（データ点の数：5000，外側の円の半径：1，内側の円の半径：0.3）"
   ]
  },
  {
   "cell_type": "code",
   "execution_count": 42,
   "metadata": {},
   "outputs": [
    {
     "data": {
      "text/plain": [
       "array([[ 0.23635164,  0.18476445],\n",
       "       [ 0.25001537, -0.16580807],\n",
       "       [-0.29612747, -0.04804705],\n",
       "       ...,\n",
       "       [-0.64705596,  0.76244251],\n",
       "       [-0.25125841, -0.1639183 ],\n",
       "       [ 0.8305959 ,  0.55687562]])"
      ]
     },
     "execution_count": 42,
     "metadata": {},
     "output_type": "execute_result"
    }
   ],
   "source": [
    "from sklearn.datasets import make_circles\n",
    "\n",
    "data, labels = make_circles(n_samples=5000, factor=0.3, random_state=1)\n",
    "data\n",
    "# dataにはデータ点の座標の配列，labelsには各データ点に対応する正解ラベルの配列を代入．\n",
    "# n_samples：データ点の数，factor：内側の円の半径．"
   ]
  },
  {
   "cell_type": "code",
   "execution_count": 43,
   "metadata": {},
   "outputs": [
    {
     "data": {
      "image/png": "[encoded data removed]",
      "text/plain": [
       "<Figure size 432x288 with 1 Axes>"
      ]
     },
     "metadata": {
      "needs_background": "light"
     },
     "output_type": "display_data"
    }
   ],
   "source": [
    "# データセットの分布．\n",
    "import numpy as np\n",
    "import matplotlib.pyplot as plt\n",
    " \n",
    "X0 = data[labels==0]\n",
    "X1 = data[labels==1]\n",
    " \n",
    "fig, ax = plt.subplots()\n",
    "ax.scatter(X0[:, 0], X0[:, 1])\n",
    "ax.scatter(X1[:, 0], X1[:, 1])\n",
    "ax.axis('equal')\n",
    " \n",
    "plt.show()"
   ]
  },
  {
   "cell_type": "markdown",
   "metadata": {},
   "source": [
    "フィルター関数を考え，レンズ（フィルター関数によるデータ点の像の配列）を計算"
   ]
  },
  {
   "cell_type": "markdown",
   "metadata": {},
   "source": [
    "フィルター関数：1つの軸（x軸）への写像：f:X（データセット）⊂R^2→R"
   ]
  },
  {
   "cell_type": "markdown",
   "metadata": {},
   "source": [
    "レンズ：データ点のx座標"
   ]
  },
  {
   "cell_type": "markdown",
   "metadata": {},
   "source": [
    "スケーリング：なし"
   ]
  },
  {
   "cell_type": "code",
   "execution_count": 44,
   "metadata": {},
   "outputs": [
    {
     "data": {
      "text/plain": [
       "array([[ 0.23635164],\n",
       "       [ 0.25001537],\n",
       "       [-0.29612747],\n",
       "       ...,\n",
       "       [-0.64705596],\n",
       "       [-0.25125841],\n",
       "       [ 0.8305959 ]])"
      ]
     },
     "execution_count": 44,
     "metadata": {},
     "output_type": "execute_result"
    }
   ],
   "source": [
    "lens = mapper.fit_transform(data, projection=[0], scaler=None) \n",
    "# projection：射影（デフォルト：sum），scaler：スケーリング（デフォルト：最小最大正規化）．\n",
    "lens"
   ]
  },
  {
   "cell_type": "markdown",
   "metadata": {},
   "source": [
    "被覆やクラスタリング手法を考え，Mapperグラフをつくる"
   ]
  },
  {
   "cell_type": "markdown",
   "metadata": {},
   "source": [
    "n_cubes：15，percent overlap：10%"
   ]
  },
  {
   "cell_type": "markdown",
   "metadata": {},
   "source": [
    "クラスタリング：DBSCAN（隣接点とみなす2点間の最大距離：0.4，ボーダー点の最小個数：3）"
   ]
  },
  {
   "cell_type": "code",
   "execution_count": 50,
   "metadata": {},
   "outputs": [],
   "source": [
    "simplicial_complex = mapper.map(lens, X=data,\n",
    "                                cover=km.Cover(n_cubes=15, perc_overlap=0.1),\n",
    "                                clusterer=sklearn.cluster.DBSCAN(eps=0.4, min_samples=3))\n",
    "# n_cubes：各軸の被覆の数\n",
    "# perc_overlap：percent overlap，各被覆の長さに対する，隣の被覆と重なっている部分の長さの割合\n",
    "# clusterer：クラスタリング手法"
   ]
  },
  {
   "cell_type": "markdown",
   "metadata": {},
   "source": [
    "Mapperグラフを出力"
   ]
  },
  {
   "cell_type": "markdown",
   "metadata": {},
   "source": [
    "色：レンズの最小値との距離"
   ]
  },
  {
   "cell_type": "code",
   "execution_count": 51,
   "metadata": {},
   "outputs": [
    {
     "data": {
      "application/vnd.jupyter.widget-view+json": {
       "model_id": "5503681a9b7f4afc93b05bb8d9ea8fb8",
       "version_major": 2,
       "version_minor": 0
      },
      "text/plain": [
       "VBox(children=(HBox(children=(FigureWidget({\n",
       "    'data': [{'hoverinfo': 'none',\n",
       "              'line': {'color'…"
      ]
     },
     "metadata": {},
     "output_type": "display_data"
    }
   ],
   "source": [
    "plotlyviz(simplicial_complex, title=\"Circle\", color_values=lens, dashboard=True) \n",
    "# cube番号：各クラスタが属する被覆の番号．被覆に含まれるデータ点が0個の場合は，設定したcube数の番号が全て含まれないこともある．\n",
    "# cluster size：各クラスタに属するデータ点の数（members：データ点の番号）\n",
    "# total smaples：各被覆に属するデータ点の数の総和（被覆が重なっていると重複カウントされる）\n",
    "# （続き）percent overlapを大きくすると元のデータ点の数より多くなるが，被覆しきれていないと元のデータ点の数より少なくなる．\n",
    "# unique samples：元のデータ点の数より少ない場合は外れ値を除去して数えている．"
   ]
  },
  {
   "cell_type": "code",
   "execution_count": 47,
   "metadata": {},
   "outputs": [],
   "source": [
    "_ = mapper.visualize(\n",
    "        simplicial_complex,\n",
    "        title='Circle',\n",
    "        path_html='Circle.html',\n",
    "        color_values=lens,\n",
    "        color_function_name=\"lens\",\n",
    "    )"
   ]
  }
 ],
 "metadata": {
  "interpreter": {
   "hash": "bb5cf0245f7a3b589284654807c6fd6464e83f9c5586a6c4e45760b691058aff"
  },
  "kernelspec": {
   "display_name": "Python 3 (ipykernel)",
   "language": "python",
   "name": "python3"
  },
  "language_info": {
   "codemirror_mode": {
    "name": "ipython",
    "version": 3
   },
   "file_extension": ".py",
   "mimetype": "text/x-python",
   "name": "python",
   "nbconvert_exporter": "python",
   "pygments_lexer": "ipython3",
   "version": "3.10.6"
  }
 },
 "nbformat": 4,
 "nbformat_minor": 4
}
